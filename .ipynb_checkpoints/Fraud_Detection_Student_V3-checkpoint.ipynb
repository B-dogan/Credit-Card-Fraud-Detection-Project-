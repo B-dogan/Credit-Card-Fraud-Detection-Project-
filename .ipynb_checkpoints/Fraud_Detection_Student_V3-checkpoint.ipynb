{
 "cells": [
  {
   "cell_type": "markdown",
   "metadata": {
    "id": "jx3Ut_rjMuHR"
   },
   "source": [
    "___\n",
    "\n",
    "<p style=\"text-align: center;\"><img src=\"https://docs.google.com/uc?id=1lY0Uj5R04yMY3-ZppPWxqCr5pvBLYPnV\" class=\"img-fluid\" alt=\"CLRSWY\"></p>\n",
    "\n",
    "___"
   ]
  },
  {
   "cell_type": "markdown",
   "metadata": {
    "id": "-24P_wByMuHX"
   },
   "source": [
    "# WELCOME!"
   ]
  },
  {
   "cell_type": "markdown",
   "metadata": {
    "id": "Ow9AD-4vMuHX"
   },
   "source": [
    "Welcome to \"***Fraud Detection Project***\". This is the last project of the Capstone Series.\n",
    "\n",
    "One of the challenges in this project is the absence of domain knowledge. So without knowing what the column names are, you will only be interested in their values. The other one is the class frequencies of the target variable are quite imbalanced.\n",
    "\n",
    "You will implement ***Logistic Regression, Random Forest, XGBoost,and Neural Network*** algorithms and ***Unbalanced Data Techniques*** . Also visualize performances of the models using ***Seaborn, Matplotlib*** and ***Yellowbrick*** in a variety of ways.\n",
    "\n",
    "Data drift and model drirft are key consepts about ML and MLOPS, you can monitor and check your data and models with plenty of ways and tools. ***Deepchecks*** is one of them and the leading tool for testing and for validating your machine learning models and data, and it enables doing so with minimal effort. In this project, you will apply ***Data Integrity, Train-Test Validation, and Model Evaluation*** checks.\n",
    "Deepchecks Intruduction : https://youtu.be/7ELdizoi6BU\n",
    "\n",
    "At the end of the project, you will have the opportunity to deploy your model by ***Streamlit API***.\n",
    "\n",
    "Before diving into the project, please take a look at the Determines and Tasks.\n",
    "\n",
    "- ***NOTE:*** *This tutorial assumes that you already know the basics of coding in Python and are familiar with model deployement (Streamlit) as well as the theory behind algorithms*\n",
    "\n"
   ]
  },
  {
   "cell_type": "markdown",
   "metadata": {
    "id": "dqbMkIZ-MuHY"
   },
   "source": [
    "---\n",
    "---\n"
   ]
  },
  {
   "cell_type": "markdown",
   "metadata": {
    "id": "spCFDhO7MuHY"
   },
   "source": [
    "# #Determines\n",
    "The datasets contains transactions made by credit cards in September 2013 by european cardholders. This dataset presents transactions that occurred in two days, where it has **492 frauds** out of **284,807** transactions. The dataset is **highly unbalanced**, the positive class (frauds) account for 0.172% of all transactions.\n",
    "\n",
    "**Feature Information:**\n",
    "\n",
    "**Time**: This feature is contains the seconds elapsed between each transaction and the first transaction in the dataset. \n",
    "\n",
    "**Amount**:  This feature is the transaction Amount, can be used for example-dependant cost-senstive learning. \n",
    "\n",
    "**Class**: This feature is the target variable and it takes value 1 in case of fraud and 0 otherwise.\n",
    "\n",
    "---\n",
    "\n",
    "The aim of this project is to predict whether a credit card transaction is fraudulent. Of course, this is not easy to do.\n",
    "First of all, you need to analyze and recognize your data well in order to draw your roadmap and choose the correct arguments you will use. Accordingly, you can examine the frequency distributions of variables. You can observe variable correlations and want to explore multicollinearity. You can display the distribution of the target variable's classes over other variables. \n",
    "Also, it is useful to take missing values and outliers.\n",
    "\n",
    "After these procedures, you can move on to the model building stage by doing the basic data pre-processing you are familiar with. \n",
    "\n",
    "Start with Logistic Regression and evaluate model performance. You will apply the Unbalanced Data Techniques used to increase the performance. Next, observe their effects.\n",
    "\n",
    "Then, you will use four different algorithms in the model building phase. \n",
    "\n",
    "In the final step, you will deploy your model using ***Streamlit API***. \n",
    "\n",
    "**Optional**: You can Dockerize your project and deploy on cloud."
   ]
  },
  {
   "cell_type": "markdown",
   "metadata": {
    "id": "YOl6z9mXMuHY"
   },
   "source": [
    "---\n",
    "---\n"
   ]
  },
  {
   "cell_type": "markdown",
   "metadata": {
    "id": "1o6X3hLLMuHZ"
   },
   "source": [
    "# #Tasks\n",
    "\n",
    "#### 1. Exploratory Data Analysis & Data Cleaning\n",
    "\n",
    "- Import Modules, Load Data & Data Review\n",
    "- Apply data integrity checks\n",
    "- Exploratory Data Analysis\n",
    "- Data Cleaning\n",
    "    \n",
    "#### 2. Data Preprocessing\n",
    "\n",
    "- Train - Test Split\n",
    "- Train - Test Split Validation Checks\n",
    "- Scaling\n",
    "\n",
    "#### 3. Model Building\n",
    "\n",
    "- Logistic Regression \n",
    "- Random Forest Classifier\n",
    "- XGBoost Classifier\n",
    "- Neural Network\n",
    "- \n",
    "\n",
    "#### 4. Model Deployement\n",
    "\n",
    "- Save and Export the Best Model\n",
    "- Save and Export Variables\n",
    "\n",
    "\n"
   ]
  },
  {
   "cell_type": "markdown",
   "metadata": {
    "id": "9sDSWJywMuHZ"
   },
   "source": [
    "---\n",
    "---\n"
   ]
  },
  {
   "cell_type": "markdown",
   "metadata": {
    "id": "fbFMU3AdMuHZ"
   },
   "source": [
    "## 1. Exploratory Data Analysis & Data Cleaning"
   ]
  },
  {
   "cell_type": "markdown",
   "metadata": {
    "id": "5nmI08_GMuHZ"
   },
   "source": [
    "### Import Modules, Load Data & Data Review"
   ]
  },
  {
   "cell_type": "code",
   "execution_count": 29,
   "metadata": {
    "id": "yKZtJybfMuHa"
   },
   "outputs": [],
   "source": [
    "# libraries for EDA\n",
    "import numpy as np\n",
    "import pandas as pd\n",
    "import matplotlib.pyplot as plt\n",
    "import seaborn as sns\n",
    "import plotly\n",
    "\n",
    "#To display the plots\n",
    "# %matplotlib inline\n",
    "\n",
    "# sklearn library for machine learning algorithms, data preprocessing, and evaluation\n",
    "from sklearn.preprocessing import StandardScaler, MinMaxScaler, RobustScaler, OrdinalEncoder\n",
    "from sklearn.model_selection import train_test_split, GridSearchCV, cross_validate\n",
    "from sklearn.linear_model import LogisticRegression\n",
    "from sklearn.svm import SVC\n",
    "from sklearn.tree import DecisionTreeClassifier\n",
    "from sklearn.ensemble import BaggingClassifier, RandomForestClassifier\n",
    "from xgboost import XGBClassifier\n",
    "\n",
    "from sklearn.metrics import classification_report, confusion_matrix, log_loss, recall_score, accuracy_score, precision_score, f1_score, plot_confusion_matrix, roc_auc_score\n",
    "from sklearn.metrics import make_scorer, average_precision_score\n",
    "\n",
    "# yellowbrick library for visualizing the model performance\n",
    "from yellowbrick.classifier import ConfusionMatrix\n",
    "\n",
    "from sklearn.pipeline import Pipeline\n",
    "\n",
    "# to get rid of the warnings\n",
    "import warnings\n",
    "warnings.filterwarnings(\"ignore\")\n",
    "warnings.warn(\"this will not show\")\n",
    "\n",
    "plt.rcParams[\"figure.figsize\"] = (10,6)\n",
    "sns.set_style(\"whitegrid\", {'axes.grid' : False})\n",
    "\n",
    "# To display maximum columns\n",
    "pd.set_option('display.max_columns', None)\n",
    "\n",
    "# To display maximum rows\n",
    "pd.set_option('display.max_rows', 200)\n",
    "\n",
    "pd.set_option('display.float_format', lambda x: '%.3f' % x)"
   ]
  },
  {
   "cell_type": "code",
   "execution_count": 30,
   "metadata": {},
   "outputs": [
    {
     "data": {
      "text/html": [
       "<div>\n",
       "<style scoped>\n",
       "    .dataframe tbody tr th:only-of-type {\n",
       "        vertical-align: middle;\n",
       "    }\n",
       "\n",
       "    .dataframe tbody tr th {\n",
       "        vertical-align: top;\n",
       "    }\n",
       "\n",
       "    .dataframe thead th {\n",
       "        text-align: right;\n",
       "    }\n",
       "</style>\n",
       "<table border=\"1\" class=\"dataframe\">\n",
       "  <thead>\n",
       "    <tr style=\"text-align: right;\">\n",
       "      <th></th>\n",
       "      <th>Time</th>\n",
       "      <th>V1</th>\n",
       "      <th>V2</th>\n",
       "      <th>V3</th>\n",
       "      <th>V4</th>\n",
       "      <th>V5</th>\n",
       "      <th>V6</th>\n",
       "      <th>V7</th>\n",
       "      <th>V8</th>\n",
       "      <th>V9</th>\n",
       "      <th>V10</th>\n",
       "      <th>V11</th>\n",
       "      <th>V12</th>\n",
       "      <th>V13</th>\n",
       "      <th>V14</th>\n",
       "      <th>V15</th>\n",
       "      <th>V16</th>\n",
       "      <th>V17</th>\n",
       "      <th>V18</th>\n",
       "      <th>V19</th>\n",
       "      <th>V20</th>\n",
       "      <th>V21</th>\n",
       "      <th>V22</th>\n",
       "      <th>V23</th>\n",
       "      <th>V24</th>\n",
       "      <th>V25</th>\n",
       "      <th>V26</th>\n",
       "      <th>V27</th>\n",
       "      <th>V28</th>\n",
       "      <th>Amount</th>\n",
       "      <th>Class</th>\n",
       "    </tr>\n",
       "  </thead>\n",
       "  <tbody>\n",
       "    <tr>\n",
       "      <th>0</th>\n",
       "      <td>0.000</td>\n",
       "      <td>-1.360</td>\n",
       "      <td>-0.073</td>\n",
       "      <td>2.536</td>\n",
       "      <td>1.378</td>\n",
       "      <td>-0.338</td>\n",
       "      <td>0.462</td>\n",
       "      <td>0.240</td>\n",
       "      <td>0.099</td>\n",
       "      <td>0.364</td>\n",
       "      <td>0.091</td>\n",
       "      <td>-0.552</td>\n",
       "      <td>-0.618</td>\n",
       "      <td>-0.991</td>\n",
       "      <td>-0.311</td>\n",
       "      <td>1.468</td>\n",
       "      <td>-0.470</td>\n",
       "      <td>0.208</td>\n",
       "      <td>0.026</td>\n",
       "      <td>0.404</td>\n",
       "      <td>0.251</td>\n",
       "      <td>-0.018</td>\n",
       "      <td>0.278</td>\n",
       "      <td>-0.110</td>\n",
       "      <td>0.067</td>\n",
       "      <td>0.129</td>\n",
       "      <td>-0.189</td>\n",
       "      <td>0.134</td>\n",
       "      <td>-0.021</td>\n",
       "      <td>149.620</td>\n",
       "      <td>0</td>\n",
       "    </tr>\n",
       "    <tr>\n",
       "      <th>1</th>\n",
       "      <td>0.000</td>\n",
       "      <td>1.192</td>\n",
       "      <td>0.266</td>\n",
       "      <td>0.166</td>\n",
       "      <td>0.448</td>\n",
       "      <td>0.060</td>\n",
       "      <td>-0.082</td>\n",
       "      <td>-0.079</td>\n",
       "      <td>0.085</td>\n",
       "      <td>-0.255</td>\n",
       "      <td>-0.167</td>\n",
       "      <td>1.613</td>\n",
       "      <td>1.065</td>\n",
       "      <td>0.489</td>\n",
       "      <td>-0.144</td>\n",
       "      <td>0.636</td>\n",
       "      <td>0.464</td>\n",
       "      <td>-0.115</td>\n",
       "      <td>-0.183</td>\n",
       "      <td>-0.146</td>\n",
       "      <td>-0.069</td>\n",
       "      <td>-0.226</td>\n",
       "      <td>-0.639</td>\n",
       "      <td>0.101</td>\n",
       "      <td>-0.340</td>\n",
       "      <td>0.167</td>\n",
       "      <td>0.126</td>\n",
       "      <td>-0.009</td>\n",
       "      <td>0.015</td>\n",
       "      <td>2.690</td>\n",
       "      <td>0</td>\n",
       "    </tr>\n",
       "    <tr>\n",
       "      <th>2</th>\n",
       "      <td>1.000</td>\n",
       "      <td>-1.358</td>\n",
       "      <td>-1.340</td>\n",
       "      <td>1.773</td>\n",
       "      <td>0.380</td>\n",
       "      <td>-0.503</td>\n",
       "      <td>1.800</td>\n",
       "      <td>0.791</td>\n",
       "      <td>0.248</td>\n",
       "      <td>-1.515</td>\n",
       "      <td>0.208</td>\n",
       "      <td>0.625</td>\n",
       "      <td>0.066</td>\n",
       "      <td>0.717</td>\n",
       "      <td>-0.166</td>\n",
       "      <td>2.346</td>\n",
       "      <td>-2.890</td>\n",
       "      <td>1.110</td>\n",
       "      <td>-0.121</td>\n",
       "      <td>-2.262</td>\n",
       "      <td>0.525</td>\n",
       "      <td>0.248</td>\n",
       "      <td>0.772</td>\n",
       "      <td>0.909</td>\n",
       "      <td>-0.689</td>\n",
       "      <td>-0.328</td>\n",
       "      <td>-0.139</td>\n",
       "      <td>-0.055</td>\n",
       "      <td>-0.060</td>\n",
       "      <td>378.660</td>\n",
       "      <td>0</td>\n",
       "    </tr>\n",
       "    <tr>\n",
       "      <th>3</th>\n",
       "      <td>1.000</td>\n",
       "      <td>-0.966</td>\n",
       "      <td>-0.185</td>\n",
       "      <td>1.793</td>\n",
       "      <td>-0.863</td>\n",
       "      <td>-0.010</td>\n",
       "      <td>1.247</td>\n",
       "      <td>0.238</td>\n",
       "      <td>0.377</td>\n",
       "      <td>-1.387</td>\n",
       "      <td>-0.055</td>\n",
       "      <td>-0.226</td>\n",
       "      <td>0.178</td>\n",
       "      <td>0.508</td>\n",
       "      <td>-0.288</td>\n",
       "      <td>-0.631</td>\n",
       "      <td>-1.060</td>\n",
       "      <td>-0.684</td>\n",
       "      <td>1.966</td>\n",
       "      <td>-1.233</td>\n",
       "      <td>-0.208</td>\n",
       "      <td>-0.108</td>\n",
       "      <td>0.005</td>\n",
       "      <td>-0.190</td>\n",
       "      <td>-1.176</td>\n",
       "      <td>0.647</td>\n",
       "      <td>-0.222</td>\n",
       "      <td>0.063</td>\n",
       "      <td>0.061</td>\n",
       "      <td>123.500</td>\n",
       "      <td>0</td>\n",
       "    </tr>\n",
       "    <tr>\n",
       "      <th>4</th>\n",
       "      <td>2.000</td>\n",
       "      <td>-1.158</td>\n",
       "      <td>0.878</td>\n",
       "      <td>1.549</td>\n",
       "      <td>0.403</td>\n",
       "      <td>-0.407</td>\n",
       "      <td>0.096</td>\n",
       "      <td>0.593</td>\n",
       "      <td>-0.271</td>\n",
       "      <td>0.818</td>\n",
       "      <td>0.753</td>\n",
       "      <td>-0.823</td>\n",
       "      <td>0.538</td>\n",
       "      <td>1.346</td>\n",
       "      <td>-1.120</td>\n",
       "      <td>0.175</td>\n",
       "      <td>-0.451</td>\n",
       "      <td>-0.237</td>\n",
       "      <td>-0.038</td>\n",
       "      <td>0.803</td>\n",
       "      <td>0.409</td>\n",
       "      <td>-0.009</td>\n",
       "      <td>0.798</td>\n",
       "      <td>-0.137</td>\n",
       "      <td>0.141</td>\n",
       "      <td>-0.206</td>\n",
       "      <td>0.502</td>\n",
       "      <td>0.219</td>\n",
       "      <td>0.215</td>\n",
       "      <td>69.990</td>\n",
       "      <td>0</td>\n",
       "    </tr>\n",
       "    <tr>\n",
       "      <th>...</th>\n",
       "      <td>...</td>\n",
       "      <td>...</td>\n",
       "      <td>...</td>\n",
       "      <td>...</td>\n",
       "      <td>...</td>\n",
       "      <td>...</td>\n",
       "      <td>...</td>\n",
       "      <td>...</td>\n",
       "      <td>...</td>\n",
       "      <td>...</td>\n",
       "      <td>...</td>\n",
       "      <td>...</td>\n",
       "      <td>...</td>\n",
       "      <td>...</td>\n",
       "      <td>...</td>\n",
       "      <td>...</td>\n",
       "      <td>...</td>\n",
       "      <td>...</td>\n",
       "      <td>...</td>\n",
       "      <td>...</td>\n",
       "      <td>...</td>\n",
       "      <td>...</td>\n",
       "      <td>...</td>\n",
       "      <td>...</td>\n",
       "      <td>...</td>\n",
       "      <td>...</td>\n",
       "      <td>...</td>\n",
       "      <td>...</td>\n",
       "      <td>...</td>\n",
       "      <td>...</td>\n",
       "      <td>...</td>\n",
       "    </tr>\n",
       "    <tr>\n",
       "      <th>284802</th>\n",
       "      <td>172786.000</td>\n",
       "      <td>-11.881</td>\n",
       "      <td>10.072</td>\n",
       "      <td>-9.835</td>\n",
       "      <td>-2.067</td>\n",
       "      <td>-5.364</td>\n",
       "      <td>-2.607</td>\n",
       "      <td>-4.918</td>\n",
       "      <td>7.305</td>\n",
       "      <td>1.914</td>\n",
       "      <td>4.356</td>\n",
       "      <td>-1.593</td>\n",
       "      <td>2.712</td>\n",
       "      <td>-0.689</td>\n",
       "      <td>4.627</td>\n",
       "      <td>-0.924</td>\n",
       "      <td>1.108</td>\n",
       "      <td>1.992</td>\n",
       "      <td>0.511</td>\n",
       "      <td>-0.683</td>\n",
       "      <td>1.476</td>\n",
       "      <td>0.213</td>\n",
       "      <td>0.112</td>\n",
       "      <td>1.014</td>\n",
       "      <td>-0.509</td>\n",
       "      <td>1.437</td>\n",
       "      <td>0.250</td>\n",
       "      <td>0.944</td>\n",
       "      <td>0.824</td>\n",
       "      <td>0.770</td>\n",
       "      <td>0</td>\n",
       "    </tr>\n",
       "    <tr>\n",
       "      <th>284803</th>\n",
       "      <td>172787.000</td>\n",
       "      <td>-0.733</td>\n",
       "      <td>-0.055</td>\n",
       "      <td>2.035</td>\n",
       "      <td>-0.739</td>\n",
       "      <td>0.868</td>\n",
       "      <td>1.058</td>\n",
       "      <td>0.024</td>\n",
       "      <td>0.295</td>\n",
       "      <td>0.585</td>\n",
       "      <td>-0.976</td>\n",
       "      <td>-0.150</td>\n",
       "      <td>0.916</td>\n",
       "      <td>1.215</td>\n",
       "      <td>-0.675</td>\n",
       "      <td>1.165</td>\n",
       "      <td>-0.712</td>\n",
       "      <td>-0.026</td>\n",
       "      <td>-1.221</td>\n",
       "      <td>-1.546</td>\n",
       "      <td>0.060</td>\n",
       "      <td>0.214</td>\n",
       "      <td>0.924</td>\n",
       "      <td>0.012</td>\n",
       "      <td>-1.016</td>\n",
       "      <td>-0.607</td>\n",
       "      <td>-0.395</td>\n",
       "      <td>0.068</td>\n",
       "      <td>-0.054</td>\n",
       "      <td>24.790</td>\n",
       "      <td>0</td>\n",
       "    </tr>\n",
       "    <tr>\n",
       "      <th>284804</th>\n",
       "      <td>172788.000</td>\n",
       "      <td>1.920</td>\n",
       "      <td>-0.301</td>\n",
       "      <td>-3.250</td>\n",
       "      <td>-0.558</td>\n",
       "      <td>2.631</td>\n",
       "      <td>3.031</td>\n",
       "      <td>-0.297</td>\n",
       "      <td>0.708</td>\n",
       "      <td>0.432</td>\n",
       "      <td>-0.485</td>\n",
       "      <td>0.412</td>\n",
       "      <td>0.063</td>\n",
       "      <td>-0.184</td>\n",
       "      <td>-0.511</td>\n",
       "      <td>1.329</td>\n",
       "      <td>0.141</td>\n",
       "      <td>0.314</td>\n",
       "      <td>0.396</td>\n",
       "      <td>-0.577</td>\n",
       "      <td>0.001</td>\n",
       "      <td>0.232</td>\n",
       "      <td>0.578</td>\n",
       "      <td>-0.038</td>\n",
       "      <td>0.640</td>\n",
       "      <td>0.266</td>\n",
       "      <td>-0.087</td>\n",
       "      <td>0.004</td>\n",
       "      <td>-0.027</td>\n",
       "      <td>67.880</td>\n",
       "      <td>0</td>\n",
       "    </tr>\n",
       "    <tr>\n",
       "      <th>284805</th>\n",
       "      <td>172788.000</td>\n",
       "      <td>-0.240</td>\n",
       "      <td>0.530</td>\n",
       "      <td>0.703</td>\n",
       "      <td>0.690</td>\n",
       "      <td>-0.378</td>\n",
       "      <td>0.624</td>\n",
       "      <td>-0.686</td>\n",
       "      <td>0.679</td>\n",
       "      <td>0.392</td>\n",
       "      <td>-0.399</td>\n",
       "      <td>-1.934</td>\n",
       "      <td>-0.963</td>\n",
       "      <td>-1.042</td>\n",
       "      <td>0.450</td>\n",
       "      <td>1.963</td>\n",
       "      <td>-0.609</td>\n",
       "      <td>0.510</td>\n",
       "      <td>1.114</td>\n",
       "      <td>2.898</td>\n",
       "      <td>0.127</td>\n",
       "      <td>0.265</td>\n",
       "      <td>0.800</td>\n",
       "      <td>-0.163</td>\n",
       "      <td>0.123</td>\n",
       "      <td>-0.569</td>\n",
       "      <td>0.547</td>\n",
       "      <td>0.109</td>\n",
       "      <td>0.105</td>\n",
       "      <td>10.000</td>\n",
       "      <td>0</td>\n",
       "    </tr>\n",
       "    <tr>\n",
       "      <th>284806</th>\n",
       "      <td>172792.000</td>\n",
       "      <td>-0.533</td>\n",
       "      <td>-0.190</td>\n",
       "      <td>0.703</td>\n",
       "      <td>-0.506</td>\n",
       "      <td>-0.013</td>\n",
       "      <td>-0.650</td>\n",
       "      <td>1.577</td>\n",
       "      <td>-0.415</td>\n",
       "      <td>0.486</td>\n",
       "      <td>-0.915</td>\n",
       "      <td>-1.040</td>\n",
       "      <td>-0.032</td>\n",
       "      <td>-0.188</td>\n",
       "      <td>-0.084</td>\n",
       "      <td>0.041</td>\n",
       "      <td>-0.303</td>\n",
       "      <td>-0.660</td>\n",
       "      <td>0.167</td>\n",
       "      <td>-0.256</td>\n",
       "      <td>0.383</td>\n",
       "      <td>0.261</td>\n",
       "      <td>0.643</td>\n",
       "      <td>0.377</td>\n",
       "      <td>0.009</td>\n",
       "      <td>-0.474</td>\n",
       "      <td>-0.818</td>\n",
       "      <td>-0.002</td>\n",
       "      <td>0.014</td>\n",
       "      <td>217.000</td>\n",
       "      <td>0</td>\n",
       "    </tr>\n",
       "  </tbody>\n",
       "</table>\n",
       "<p>284807 rows × 31 columns</p>\n",
       "</div>"
      ],
      "text/plain": [
       "             Time      V1     V2     V3     V4     V5     V6     V7     V8  \\\n",
       "0           0.000  -1.360 -0.073  2.536  1.378 -0.338  0.462  0.240  0.099   \n",
       "1           0.000   1.192  0.266  0.166  0.448  0.060 -0.082 -0.079  0.085   \n",
       "2           1.000  -1.358 -1.340  1.773  0.380 -0.503  1.800  0.791  0.248   \n",
       "3           1.000  -0.966 -0.185  1.793 -0.863 -0.010  1.247  0.238  0.377   \n",
       "4           2.000  -1.158  0.878  1.549  0.403 -0.407  0.096  0.593 -0.271   \n",
       "...           ...     ...    ...    ...    ...    ...    ...    ...    ...   \n",
       "284802 172786.000 -11.881 10.072 -9.835 -2.067 -5.364 -2.607 -4.918  7.305   \n",
       "284803 172787.000  -0.733 -0.055  2.035 -0.739  0.868  1.058  0.024  0.295   \n",
       "284804 172788.000   1.920 -0.301 -3.250 -0.558  2.631  3.031 -0.297  0.708   \n",
       "284805 172788.000  -0.240  0.530  0.703  0.690 -0.378  0.624 -0.686  0.679   \n",
       "284806 172792.000  -0.533 -0.190  0.703 -0.506 -0.013 -0.650  1.577 -0.415   \n",
       "\n",
       "           V9    V10    V11    V12    V13    V14    V15    V16    V17    V18  \\\n",
       "0       0.364  0.091 -0.552 -0.618 -0.991 -0.311  1.468 -0.470  0.208  0.026   \n",
       "1      -0.255 -0.167  1.613  1.065  0.489 -0.144  0.636  0.464 -0.115 -0.183   \n",
       "2      -1.515  0.208  0.625  0.066  0.717 -0.166  2.346 -2.890  1.110 -0.121   \n",
       "3      -1.387 -0.055 -0.226  0.178  0.508 -0.288 -0.631 -1.060 -0.684  1.966   \n",
       "4       0.818  0.753 -0.823  0.538  1.346 -1.120  0.175 -0.451 -0.237 -0.038   \n",
       "...       ...    ...    ...    ...    ...    ...    ...    ...    ...    ...   \n",
       "284802  1.914  4.356 -1.593  2.712 -0.689  4.627 -0.924  1.108  1.992  0.511   \n",
       "284803  0.585 -0.976 -0.150  0.916  1.215 -0.675  1.165 -0.712 -0.026 -1.221   \n",
       "284804  0.432 -0.485  0.412  0.063 -0.184 -0.511  1.329  0.141  0.314  0.396   \n",
       "284805  0.392 -0.399 -1.934 -0.963 -1.042  0.450  1.963 -0.609  0.510  1.114   \n",
       "284806  0.486 -0.915 -1.040 -0.032 -0.188 -0.084  0.041 -0.303 -0.660  0.167   \n",
       "\n",
       "          V19    V20    V21    V22    V23    V24    V25    V26    V27    V28  \\\n",
       "0       0.404  0.251 -0.018  0.278 -0.110  0.067  0.129 -0.189  0.134 -0.021   \n",
       "1      -0.146 -0.069 -0.226 -0.639  0.101 -0.340  0.167  0.126 -0.009  0.015   \n",
       "2      -2.262  0.525  0.248  0.772  0.909 -0.689 -0.328 -0.139 -0.055 -0.060   \n",
       "3      -1.233 -0.208 -0.108  0.005 -0.190 -1.176  0.647 -0.222  0.063  0.061   \n",
       "4       0.803  0.409 -0.009  0.798 -0.137  0.141 -0.206  0.502  0.219  0.215   \n",
       "...       ...    ...    ...    ...    ...    ...    ...    ...    ...    ...   \n",
       "284802 -0.683  1.476  0.213  0.112  1.014 -0.509  1.437  0.250  0.944  0.824   \n",
       "284803 -1.546  0.060  0.214  0.924  0.012 -1.016 -0.607 -0.395  0.068 -0.054   \n",
       "284804 -0.577  0.001  0.232  0.578 -0.038  0.640  0.266 -0.087  0.004 -0.027   \n",
       "284805  2.898  0.127  0.265  0.800 -0.163  0.123 -0.569  0.547  0.109  0.105   \n",
       "284806 -0.256  0.383  0.261  0.643  0.377  0.009 -0.474 -0.818 -0.002  0.014   \n",
       "\n",
       "        Amount  Class  \n",
       "0      149.620      0  \n",
       "1        2.690      0  \n",
       "2      378.660      0  \n",
       "3      123.500      0  \n",
       "4       69.990      0  \n",
       "...        ...    ...  \n",
       "284802   0.770      0  \n",
       "284803  24.790      0  \n",
       "284804  67.880      0  \n",
       "284805  10.000      0  \n",
       "284806 217.000      0  \n",
       "\n",
       "[284807 rows x 31 columns]"
      ]
     },
     "execution_count": 30,
     "metadata": {},
     "output_type": "execute_result"
    }
   ],
   "source": [
    "df = pd.read_csv(\"creditcard.csv\")\n",
    "df"
   ]
  },
  {
   "cell_type": "code",
   "execution_count": 31,
   "metadata": {},
   "outputs": [
    {
     "name": "stdout",
     "output_type": "stream",
     "text": [
      "<class 'pandas.core.frame.DataFrame'>\n",
      "RangeIndex: 284807 entries, 0 to 284806\n",
      "Data columns (total 31 columns):\n",
      " #   Column  Non-Null Count   Dtype  \n",
      "---  ------  --------------   -----  \n",
      " 0   Time    284807 non-null  float64\n",
      " 1   V1      284807 non-null  float64\n",
      " 2   V2      284807 non-null  float64\n",
      " 3   V3      284807 non-null  float64\n",
      " 4   V4      284807 non-null  float64\n",
      " 5   V5      284807 non-null  float64\n",
      " 6   V6      284807 non-null  float64\n",
      " 7   V7      284807 non-null  float64\n",
      " 8   V8      284807 non-null  float64\n",
      " 9   V9      284807 non-null  float64\n",
      " 10  V10     284807 non-null  float64\n",
      " 11  V11     284807 non-null  float64\n",
      " 12  V12     284807 non-null  float64\n",
      " 13  V13     284807 non-null  float64\n",
      " 14  V14     284807 non-null  float64\n",
      " 15  V15     284807 non-null  float64\n",
      " 16  V16     284807 non-null  float64\n",
      " 17  V17     284807 non-null  float64\n",
      " 18  V18     284807 non-null  float64\n",
      " 19  V19     284807 non-null  float64\n",
      " 20  V20     284807 non-null  float64\n",
      " 21  V21     284807 non-null  float64\n",
      " 22  V22     284807 non-null  float64\n",
      " 23  V23     284807 non-null  float64\n",
      " 24  V24     284807 non-null  float64\n",
      " 25  V25     284807 non-null  float64\n",
      " 26  V26     284807 non-null  float64\n",
      " 27  V27     284807 non-null  float64\n",
      " 28  V28     284807 non-null  float64\n",
      " 29  Amount  284807 non-null  float64\n",
      " 30  Class   284807 non-null  int64  \n",
      "dtypes: float64(30), int64(1)\n",
      "memory usage: 67.4 MB\n"
     ]
    }
   ],
   "source": [
    "df.info()"
   ]
  },
  {
   "cell_type": "code",
   "execution_count": 63,
   "metadata": {},
   "outputs": [
    {
     "data": {
      "text/html": [
       "<div>\n",
       "<style scoped>\n",
       "    .dataframe tbody tr th:only-of-type {\n",
       "        vertical-align: middle;\n",
       "    }\n",
       "\n",
       "    .dataframe tbody tr th {\n",
       "        vertical-align: top;\n",
       "    }\n",
       "\n",
       "    .dataframe thead th {\n",
       "        text-align: right;\n",
       "    }\n",
       "</style>\n",
       "<table border=\"1\" class=\"dataframe\">\n",
       "  <thead>\n",
       "    <tr style=\"text-align: right;\">\n",
       "      <th></th>\n",
       "      <th>count</th>\n",
       "      <th>mean</th>\n",
       "      <th>std</th>\n",
       "      <th>min</th>\n",
       "      <th>25%</th>\n",
       "      <th>50%</th>\n",
       "      <th>75%</th>\n",
       "      <th>max</th>\n",
       "    </tr>\n",
       "  </thead>\n",
       "  <tbody>\n",
       "    <tr>\n",
       "      <th>Time</th>\n",
       "      <td>284799.000</td>\n",
       "      <td>94813.586</td>\n",
       "      <td>47488.019</td>\n",
       "      <td>0.000</td>\n",
       "      <td>54202.500</td>\n",
       "      <td>84691.000</td>\n",
       "      <td>139320.000</td>\n",
       "      <td>172792.000</td>\n",
       "    </tr>\n",
       "    <tr>\n",
       "      <th>V1</th>\n",
       "      <td>284799.000</td>\n",
       "      <td>0.001</td>\n",
       "      <td>1.953</td>\n",
       "      <td>-56.408</td>\n",
       "      <td>-0.920</td>\n",
       "      <td>0.018</td>\n",
       "      <td>1.316</td>\n",
       "      <td>2.455</td>\n",
       "    </tr>\n",
       "    <tr>\n",
       "      <th>V2</th>\n",
       "      <td>284799.000</td>\n",
       "      <td>0.001</td>\n",
       "      <td>1.636</td>\n",
       "      <td>-72.716</td>\n",
       "      <td>-0.598</td>\n",
       "      <td>0.066</td>\n",
       "      <td>0.804</td>\n",
       "      <td>22.058</td>\n",
       "    </tr>\n",
       "    <tr>\n",
       "      <th>V3</th>\n",
       "      <td>284799.000</td>\n",
       "      <td>0.001</td>\n",
       "      <td>1.512</td>\n",
       "      <td>-33.681</td>\n",
       "      <td>-0.890</td>\n",
       "      <td>0.180</td>\n",
       "      <td>1.027</td>\n",
       "      <td>9.383</td>\n",
       "    </tr>\n",
       "    <tr>\n",
       "      <th>V4</th>\n",
       "      <td>284799.000</td>\n",
       "      <td>-0.000</td>\n",
       "      <td>1.414</td>\n",
       "      <td>-5.683</td>\n",
       "      <td>-0.849</td>\n",
       "      <td>-0.020</td>\n",
       "      <td>0.743</td>\n",
       "      <td>16.491</td>\n",
       "    </tr>\n",
       "    <tr>\n",
       "      <th>V5</th>\n",
       "      <td>284799.000</td>\n",
       "      <td>0.001</td>\n",
       "      <td>1.360</td>\n",
       "      <td>-42.148</td>\n",
       "      <td>-0.692</td>\n",
       "      <td>-0.054</td>\n",
       "      <td>0.612</td>\n",
       "      <td>34.802</td>\n",
       "    </tr>\n",
       "    <tr>\n",
       "      <th>V6</th>\n",
       "      <td>284799.000</td>\n",
       "      <td>-0.000</td>\n",
       "      <td>1.324</td>\n",
       "      <td>-26.161</td>\n",
       "      <td>-0.768</td>\n",
       "      <td>-0.274</td>\n",
       "      <td>0.398</td>\n",
       "      <td>22.529</td>\n",
       "    </tr>\n",
       "    <tr>\n",
       "      <th>V7</th>\n",
       "      <td>284799.000</td>\n",
       "      <td>-0.001</td>\n",
       "      <td>1.211</td>\n",
       "      <td>-43.557</td>\n",
       "      <td>-0.554</td>\n",
       "      <td>0.040</td>\n",
       "      <td>0.570</td>\n",
       "      <td>36.877</td>\n",
       "    </tr>\n",
       "    <tr>\n",
       "      <th>V8</th>\n",
       "      <td>284799.000</td>\n",
       "      <td>0.000</td>\n",
       "      <td>1.193</td>\n",
       "      <td>-73.217</td>\n",
       "      <td>-0.209</td>\n",
       "      <td>0.022</td>\n",
       "      <td>0.327</td>\n",
       "      <td>20.007</td>\n",
       "    </tr>\n",
       "    <tr>\n",
       "      <th>V9</th>\n",
       "      <td>284799.000</td>\n",
       "      <td>0.000</td>\n",
       "      <td>1.099</td>\n",
       "      <td>-13.434</td>\n",
       "      <td>-0.643</td>\n",
       "      <td>-0.051</td>\n",
       "      <td>0.597</td>\n",
       "      <td>15.595</td>\n",
       "    </tr>\n",
       "    <tr>\n",
       "      <th>V10</th>\n",
       "      <td>284799.000</td>\n",
       "      <td>0.000</td>\n",
       "      <td>1.088</td>\n",
       "      <td>-24.588</td>\n",
       "      <td>-0.535</td>\n",
       "      <td>-0.093</td>\n",
       "      <td>0.454</td>\n",
       "      <td>23.745</td>\n",
       "    </tr>\n",
       "    <tr>\n",
       "      <th>V11</th>\n",
       "      <td>284799.000</td>\n",
       "      <td>-0.000</td>\n",
       "      <td>1.021</td>\n",
       "      <td>-4.797</td>\n",
       "      <td>-0.763</td>\n",
       "      <td>-0.033</td>\n",
       "      <td>0.740</td>\n",
       "      <td>12.019</td>\n",
       "    </tr>\n",
       "    <tr>\n",
       "      <th>V12</th>\n",
       "      <td>284799.000</td>\n",
       "      <td>0.000</td>\n",
       "      <td>0.999</td>\n",
       "      <td>-18.684</td>\n",
       "      <td>-0.406</td>\n",
       "      <td>0.140</td>\n",
       "      <td>0.618</td>\n",
       "      <td>7.848</td>\n",
       "    </tr>\n",
       "    <tr>\n",
       "      <th>V13</th>\n",
       "      <td>284799.000</td>\n",
       "      <td>-0.000</td>\n",
       "      <td>0.995</td>\n",
       "      <td>-5.792</td>\n",
       "      <td>-0.649</td>\n",
       "      <td>-0.014</td>\n",
       "      <td>0.662</td>\n",
       "      <td>4.569</td>\n",
       "    </tr>\n",
       "    <tr>\n",
       "      <th>V14</th>\n",
       "      <td>284799.000</td>\n",
       "      <td>-0.000</td>\n",
       "      <td>0.958</td>\n",
       "      <td>-19.214</td>\n",
       "      <td>-0.426</td>\n",
       "      <td>0.051</td>\n",
       "      <td>0.493</td>\n",
       "      <td>10.527</td>\n",
       "    </tr>\n",
       "    <tr>\n",
       "      <th>V15</th>\n",
       "      <td>284799.000</td>\n",
       "      <td>-0.000</td>\n",
       "      <td>0.915</td>\n",
       "      <td>-4.499</td>\n",
       "      <td>-0.583</td>\n",
       "      <td>0.048</td>\n",
       "      <td>0.649</td>\n",
       "      <td>5.826</td>\n",
       "    </tr>\n",
       "    <tr>\n",
       "      <th>V16</th>\n",
       "      <td>284799.000</td>\n",
       "      <td>-0.000</td>\n",
       "      <td>0.876</td>\n",
       "      <td>-14.130</td>\n",
       "      <td>-0.468</td>\n",
       "      <td>0.066</td>\n",
       "      <td>0.523</td>\n",
       "      <td>8.290</td>\n",
       "    </tr>\n",
       "    <tr>\n",
       "      <th>V17</th>\n",
       "      <td>284799.000</td>\n",
       "      <td>0.000</td>\n",
       "      <td>0.849</td>\n",
       "      <td>-25.163</td>\n",
       "      <td>-0.484</td>\n",
       "      <td>-0.066</td>\n",
       "      <td>0.400</td>\n",
       "      <td>9.254</td>\n",
       "    </tr>\n",
       "    <tr>\n",
       "      <th>V18</th>\n",
       "      <td>284799.000</td>\n",
       "      <td>-0.000</td>\n",
       "      <td>0.838</td>\n",
       "      <td>-9.499</td>\n",
       "      <td>-0.499</td>\n",
       "      <td>-0.004</td>\n",
       "      <td>0.501</td>\n",
       "      <td>4.296</td>\n",
       "    </tr>\n",
       "    <tr>\n",
       "      <th>V19</th>\n",
       "      <td>284799.000</td>\n",
       "      <td>0.000</td>\n",
       "      <td>0.814</td>\n",
       "      <td>-4.933</td>\n",
       "      <td>-0.456</td>\n",
       "      <td>0.004</td>\n",
       "      <td>0.459</td>\n",
       "      <td>5.592</td>\n",
       "    </tr>\n",
       "    <tr>\n",
       "      <th>V20</th>\n",
       "      <td>284799.000</td>\n",
       "      <td>-0.000</td>\n",
       "      <td>0.752</td>\n",
       "      <td>-28.010</td>\n",
       "      <td>-0.212</td>\n",
       "      <td>-0.062</td>\n",
       "      <td>0.133</td>\n",
       "      <td>23.643</td>\n",
       "    </tr>\n",
       "    <tr>\n",
       "      <th>V21</th>\n",
       "      <td>284799.000</td>\n",
       "      <td>-0.000</td>\n",
       "      <td>0.732</td>\n",
       "      <td>-34.830</td>\n",
       "      <td>-0.228</td>\n",
       "      <td>-0.029</td>\n",
       "      <td>0.186</td>\n",
       "      <td>27.203</td>\n",
       "    </tr>\n",
       "    <tr>\n",
       "      <th>V22</th>\n",
       "      <td>284799.000</td>\n",
       "      <td>0.000</td>\n",
       "      <td>0.725</td>\n",
       "      <td>-8.887</td>\n",
       "      <td>-0.542</td>\n",
       "      <td>0.007</td>\n",
       "      <td>0.529</td>\n",
       "      <td>10.503</td>\n",
       "    </tr>\n",
       "    <tr>\n",
       "      <th>V23</th>\n",
       "      <td>284799.000</td>\n",
       "      <td>0.000</td>\n",
       "      <td>0.619</td>\n",
       "      <td>-44.808</td>\n",
       "      <td>-0.162</td>\n",
       "      <td>-0.011</td>\n",
       "      <td>0.148</td>\n",
       "      <td>22.528</td>\n",
       "    </tr>\n",
       "    <tr>\n",
       "      <th>V24</th>\n",
       "      <td>284799.000</td>\n",
       "      <td>-0.000</td>\n",
       "      <td>0.606</td>\n",
       "      <td>-2.837</td>\n",
       "      <td>-0.355</td>\n",
       "      <td>0.041</td>\n",
       "      <td>0.440</td>\n",
       "      <td>4.023</td>\n",
       "    </tr>\n",
       "    <tr>\n",
       "      <th>V25</th>\n",
       "      <td>284799.000</td>\n",
       "      <td>0.000</td>\n",
       "      <td>0.520</td>\n",
       "      <td>-10.295</td>\n",
       "      <td>-0.317</td>\n",
       "      <td>0.017</td>\n",
       "      <td>0.351</td>\n",
       "      <td>7.520</td>\n",
       "    </tr>\n",
       "    <tr>\n",
       "      <th>V26</th>\n",
       "      <td>284799.000</td>\n",
       "      <td>0.000</td>\n",
       "      <td>0.482</td>\n",
       "      <td>-2.069</td>\n",
       "      <td>-0.327</td>\n",
       "      <td>-0.052</td>\n",
       "      <td>0.241</td>\n",
       "      <td>3.517</td>\n",
       "    </tr>\n",
       "    <tr>\n",
       "      <th>V27</th>\n",
       "      <td>284799.000</td>\n",
       "      <td>-0.000</td>\n",
       "      <td>0.399</td>\n",
       "      <td>-22.566</td>\n",
       "      <td>-0.071</td>\n",
       "      <td>0.001</td>\n",
       "      <td>0.091</td>\n",
       "      <td>12.152</td>\n",
       "    </tr>\n",
       "    <tr>\n",
       "      <th>V28</th>\n",
       "      <td>284799.000</td>\n",
       "      <td>0.000</td>\n",
       "      <td>0.329</td>\n",
       "      <td>-11.711</td>\n",
       "      <td>-0.053</td>\n",
       "      <td>0.011</td>\n",
       "      <td>0.078</td>\n",
       "      <td>33.848</td>\n",
       "    </tr>\n",
       "    <tr>\n",
       "      <th>Amount</th>\n",
       "      <td>284799.000</td>\n",
       "      <td>87.927</td>\n",
       "      <td>235.414</td>\n",
       "      <td>0.000</td>\n",
       "      <td>5.590</td>\n",
       "      <td>22.000</td>\n",
       "      <td>77.150</td>\n",
       "      <td>8790.260</td>\n",
       "    </tr>\n",
       "    <tr>\n",
       "      <th>Class</th>\n",
       "      <td>284799.000</td>\n",
       "      <td>0.002</td>\n",
       "      <td>0.042</td>\n",
       "      <td>0.000</td>\n",
       "      <td>0.000</td>\n",
       "      <td>0.000</td>\n",
       "      <td>0.000</td>\n",
       "      <td>1.000</td>\n",
       "    </tr>\n",
       "  </tbody>\n",
       "</table>\n",
       "</div>"
      ],
      "text/plain": [
       "            count      mean       std     min       25%       50%        75%  \\\n",
       "Time   284799.000 94813.586 47488.019   0.000 54202.500 84691.000 139320.000   \n",
       "V1     284799.000     0.001     1.953 -56.408    -0.920     0.018      1.316   \n",
       "V2     284799.000     0.001     1.636 -72.716    -0.598     0.066      0.804   \n",
       "V3     284799.000     0.001     1.512 -33.681    -0.890     0.180      1.027   \n",
       "V4     284799.000    -0.000     1.414  -5.683    -0.849    -0.020      0.743   \n",
       "V5     284799.000     0.001     1.360 -42.148    -0.692    -0.054      0.612   \n",
       "V6     284799.000    -0.000     1.324 -26.161    -0.768    -0.274      0.398   \n",
       "V7     284799.000    -0.001     1.211 -43.557    -0.554     0.040      0.570   \n",
       "V8     284799.000     0.000     1.193 -73.217    -0.209     0.022      0.327   \n",
       "V9     284799.000     0.000     1.099 -13.434    -0.643    -0.051      0.597   \n",
       "V10    284799.000     0.000     1.088 -24.588    -0.535    -0.093      0.454   \n",
       "V11    284799.000    -0.000     1.021  -4.797    -0.763    -0.033      0.740   \n",
       "V12    284799.000     0.000     0.999 -18.684    -0.406     0.140      0.618   \n",
       "V13    284799.000    -0.000     0.995  -5.792    -0.649    -0.014      0.662   \n",
       "V14    284799.000    -0.000     0.958 -19.214    -0.426     0.051      0.493   \n",
       "V15    284799.000    -0.000     0.915  -4.499    -0.583     0.048      0.649   \n",
       "V16    284799.000    -0.000     0.876 -14.130    -0.468     0.066      0.523   \n",
       "V17    284799.000     0.000     0.849 -25.163    -0.484    -0.066      0.400   \n",
       "V18    284799.000    -0.000     0.838  -9.499    -0.499    -0.004      0.501   \n",
       "V19    284799.000     0.000     0.814  -4.933    -0.456     0.004      0.459   \n",
       "V20    284799.000    -0.000     0.752 -28.010    -0.212    -0.062      0.133   \n",
       "V21    284799.000    -0.000     0.732 -34.830    -0.228    -0.029      0.186   \n",
       "V22    284799.000     0.000     0.725  -8.887    -0.542     0.007      0.529   \n",
       "V23    284799.000     0.000     0.619 -44.808    -0.162    -0.011      0.148   \n",
       "V24    284799.000    -0.000     0.606  -2.837    -0.355     0.041      0.440   \n",
       "V25    284799.000     0.000     0.520 -10.295    -0.317     0.017      0.351   \n",
       "V26    284799.000     0.000     0.482  -2.069    -0.327    -0.052      0.241   \n",
       "V27    284799.000    -0.000     0.399 -22.566    -0.071     0.001      0.091   \n",
       "V28    284799.000     0.000     0.329 -11.711    -0.053     0.011      0.078   \n",
       "Amount 284799.000    87.927   235.414   0.000     5.590    22.000     77.150   \n",
       "Class  284799.000     0.002     0.042   0.000     0.000     0.000      0.000   \n",
       "\n",
       "              max  \n",
       "Time   172792.000  \n",
       "V1          2.455  \n",
       "V2         22.058  \n",
       "V3          9.383  \n",
       "V4         16.491  \n",
       "V5         34.802  \n",
       "V6         22.529  \n",
       "V7         36.877  \n",
       "V8         20.007  \n",
       "V9         15.595  \n",
       "V10        23.745  \n",
       "V11        12.019  \n",
       "V12         7.848  \n",
       "V13         4.569  \n",
       "V14        10.527  \n",
       "V15         5.826  \n",
       "V16         8.290  \n",
       "V17         9.254  \n",
       "V18         4.296  \n",
       "V19         5.592  \n",
       "V20        23.643  \n",
       "V21        27.203  \n",
       "V22        10.503  \n",
       "V23        22.528  \n",
       "V24         4.023  \n",
       "V25         7.520  \n",
       "V26         3.517  \n",
       "V27        12.152  \n",
       "V28        33.848  \n",
       "Amount   8790.260  \n",
       "Class       1.000  "
      ]
     },
     "execution_count": 63,
     "metadata": {},
     "output_type": "execute_result"
    }
   ],
   "source": [
    "df.describe().T"
   ]
  },
  {
   "cell_type": "markdown",
   "metadata": {
    "id": "-iy4dwCdp4BJ"
   },
   "source": [
    "## Apply Data Integrity Checks\n",
    "* link: https://docs.deepchecks.com/stable/user-guide/tabular/auto_quickstarts/plot_quick_data_integrity.html"
   ]
  },
  {
   "cell_type": "code",
   "execution_count": 32,
   "metadata": {},
   "outputs": [],
   "source": [
    "from deepchecks.tabular import Dataset\n",
    "cat_cols = []\n",
    "ds = Dataset(df, cat_features= cat_cols, label= 'Class')\n"
   ]
  },
  {
   "cell_type": "code",
   "execution_count": 33,
   "metadata": {
    "id": "BuHZl_AlqF30"
   },
   "outputs": [
    {
     "data": {
      "text/html": [
       "\n",
       "    <style>\n",
       "        progress {\n",
       "            -webkit-appearance: none;\n",
       "            border: none;\n",
       "            border-radius: 3px;\n",
       "            width: 300px;\n",
       "            height: 20px;\n",
       "            vertical-align: middle;\n",
       "            margin-right: 10px;\n",
       "            background-color: aliceblue;\n",
       "        }\n",
       "        progress::-webkit-progress-bar {\n",
       "            border-radius: 3px;\n",
       "            background-color: aliceblue;\n",
       "        }\n",
       "        progress::-webkit-progress-value {\n",
       "            background-color: #9d60fb;\n",
       "        }\n",
       "        progress::-moz-progress-bar {\n",
       "            background-color: #9d60fb;\n",
       "        }\n",
       "    </style>\n",
       "    "
      ]
     },
     "metadata": {},
     "output_type": "display_data"
    },
    {
     "data": {
      "text/html": []
     },
     "metadata": {},
     "output_type": "display_data"
    },
    {
     "data": {
      "application/vnd.jupyter.widget-view+json": {
       "model_id": "92609796f63f4f6988403d3b2a4a56ef",
       "version_major": 2,
       "version_minor": 0
      },
      "text/plain": [
       "Accordion(children=(VBox(children=(HTML(value='\\n            <h1 id=\"summary_D2MOE5HZR5BDZ3TMOWO5B8K3L\">Data I…"
      ]
     },
     "metadata": {},
     "output_type": "display_data"
    }
   ],
   "source": [
    "from deepchecks.tabular.suites import data_integrity\n",
    "\n",
    "# Run Suite:\n",
    "integ_suite = data_integrity()\n",
    "suite_result = integ_suite.run(ds)\n",
    "# Note: the result can be saved as html using suite_result.save_as_html()\n",
    "# or exported to json using suite_result.to_json()\n",
    "suite_result.show()"
   ]
  },
  {
   "cell_type": "markdown",
   "metadata": {},
   "source": [
    "## Amaç burada çıkan hataları düzeltip uyarıları dikkate alarak bunlarla mücadele edip bu suite'i tekrar çalıştırarak Didn't Pass sekmesindeki output'u temizlemek."
   ]
  },
  {
   "cell_type": "markdown",
   "metadata": {},
   "source": [
    "## Bir data üzerinde tek bir check de çalıştırabilir ve sonuçlarını da görebiliriz. Ex:"
   ]
  },
  {
   "cell_type": "code",
   "execution_count": 34,
   "metadata": {},
   "outputs": [
    {
     "data": {
      "application/vnd.jupyter.widget-view+json": {
       "model_id": "c8e6391dd1e64b248561622c003380c1",
       "version_major": 2,
       "version_minor": 0
      },
      "text/plain": [
       "VBox(children=(HTML(value='<h4><b>Data Duplicates</b></h4>'), HTML(value='<p>Checks for duplicate samples in t…"
      ]
     },
     "metadata": {},
     "output_type": "display_data"
    }
   ],
   "source": [
    "from deepchecks.tabular.checks import DataDuplicates\n",
    "\n",
    "\n",
    "\n",
    "\n",
    "DataDuplicates().run(ds)"
   ]
  },
  {
   "cell_type": "markdown",
   "metadata": {},
   "source": [
    "### Duplicate samples, modelin bu örneklere verdiği ağırlığı artırır : Bu Duplicateler kasıtlı olarak oradaysa (örneğin,  veri kümesinin doğası gereği aynı görünümlü örneklere sahipse) bu geçerli olabilir"
   ]
  },
  {
   "cell_type": "code",
   "execution_count": null,
   "metadata": {},
   "outputs": [],
   "source": [
    "# df.duplicated().sum()"
   ]
  },
  {
   "cell_type": "code",
   "execution_count": null,
   "metadata": {},
   "outputs": [],
   "source": [
    "# df.drop_duplicates(inplace=True)"
   ]
  },
  {
   "cell_type": "markdown",
   "metadata": {
    "id": "K22reBkbMuHa"
   },
   "source": [
    "### Exploratory Data Analysis"
   ]
  },
  {
   "cell_type": "code",
   "execution_count": 35,
   "metadata": {
    "id": "qF6hbk0hpy8a"
   },
   "outputs": [
    {
     "data": {
      "text/html": [
       "<div>\n",
       "<style scoped>\n",
       "    .dataframe tbody tr th:only-of-type {\n",
       "        vertical-align: middle;\n",
       "    }\n",
       "\n",
       "    .dataframe tbody tr th {\n",
       "        vertical-align: top;\n",
       "    }\n",
       "\n",
       "    .dataframe thead th {\n",
       "        text-align: right;\n",
       "    }\n",
       "</style>\n",
       "<table border=\"1\" class=\"dataframe\">\n",
       "  <thead>\n",
       "    <tr style=\"text-align: right;\">\n",
       "      <th></th>\n",
       "      <th>Time</th>\n",
       "      <th>V1</th>\n",
       "      <th>V2</th>\n",
       "      <th>V3</th>\n",
       "      <th>V4</th>\n",
       "      <th>V5</th>\n",
       "      <th>V6</th>\n",
       "      <th>V7</th>\n",
       "      <th>V8</th>\n",
       "      <th>V9</th>\n",
       "      <th>V10</th>\n",
       "      <th>V11</th>\n",
       "      <th>V12</th>\n",
       "      <th>V13</th>\n",
       "      <th>V14</th>\n",
       "      <th>V15</th>\n",
       "      <th>V16</th>\n",
       "      <th>V17</th>\n",
       "      <th>V18</th>\n",
       "      <th>V19</th>\n",
       "      <th>V20</th>\n",
       "      <th>V21</th>\n",
       "      <th>V22</th>\n",
       "      <th>V23</th>\n",
       "      <th>V24</th>\n",
       "      <th>V25</th>\n",
       "      <th>V26</th>\n",
       "      <th>V27</th>\n",
       "      <th>V28</th>\n",
       "      <th>Amount</th>\n",
       "      <th>Class</th>\n",
       "    </tr>\n",
       "  </thead>\n",
       "  <tbody>\n",
       "    <tr>\n",
       "      <th>0</th>\n",
       "      <td>0.000</td>\n",
       "      <td>-1.360</td>\n",
       "      <td>-0.073</td>\n",
       "      <td>2.536</td>\n",
       "      <td>1.378</td>\n",
       "      <td>-0.338</td>\n",
       "      <td>0.462</td>\n",
       "      <td>0.240</td>\n",
       "      <td>0.099</td>\n",
       "      <td>0.364</td>\n",
       "      <td>0.091</td>\n",
       "      <td>-0.552</td>\n",
       "      <td>-0.618</td>\n",
       "      <td>-0.991</td>\n",
       "      <td>-0.311</td>\n",
       "      <td>1.468</td>\n",
       "      <td>-0.470</td>\n",
       "      <td>0.208</td>\n",
       "      <td>0.026</td>\n",
       "      <td>0.404</td>\n",
       "      <td>0.251</td>\n",
       "      <td>-0.018</td>\n",
       "      <td>0.278</td>\n",
       "      <td>-0.110</td>\n",
       "      <td>0.067</td>\n",
       "      <td>0.129</td>\n",
       "      <td>-0.189</td>\n",
       "      <td>0.134</td>\n",
       "      <td>-0.021</td>\n",
       "      <td>149.620</td>\n",
       "      <td>0</td>\n",
       "    </tr>\n",
       "    <tr>\n",
       "      <th>1</th>\n",
       "      <td>0.000</td>\n",
       "      <td>1.192</td>\n",
       "      <td>0.266</td>\n",
       "      <td>0.166</td>\n",
       "      <td>0.448</td>\n",
       "      <td>0.060</td>\n",
       "      <td>-0.082</td>\n",
       "      <td>-0.079</td>\n",
       "      <td>0.085</td>\n",
       "      <td>-0.255</td>\n",
       "      <td>-0.167</td>\n",
       "      <td>1.613</td>\n",
       "      <td>1.065</td>\n",
       "      <td>0.489</td>\n",
       "      <td>-0.144</td>\n",
       "      <td>0.636</td>\n",
       "      <td>0.464</td>\n",
       "      <td>-0.115</td>\n",
       "      <td>-0.183</td>\n",
       "      <td>-0.146</td>\n",
       "      <td>-0.069</td>\n",
       "      <td>-0.226</td>\n",
       "      <td>-0.639</td>\n",
       "      <td>0.101</td>\n",
       "      <td>-0.340</td>\n",
       "      <td>0.167</td>\n",
       "      <td>0.126</td>\n",
       "      <td>-0.009</td>\n",
       "      <td>0.015</td>\n",
       "      <td>2.690</td>\n",
       "      <td>0</td>\n",
       "    </tr>\n",
       "    <tr>\n",
       "      <th>2</th>\n",
       "      <td>1.000</td>\n",
       "      <td>-1.358</td>\n",
       "      <td>-1.340</td>\n",
       "      <td>1.773</td>\n",
       "      <td>0.380</td>\n",
       "      <td>-0.503</td>\n",
       "      <td>1.800</td>\n",
       "      <td>0.791</td>\n",
       "      <td>0.248</td>\n",
       "      <td>-1.515</td>\n",
       "      <td>0.208</td>\n",
       "      <td>0.625</td>\n",
       "      <td>0.066</td>\n",
       "      <td>0.717</td>\n",
       "      <td>-0.166</td>\n",
       "      <td>2.346</td>\n",
       "      <td>-2.890</td>\n",
       "      <td>1.110</td>\n",
       "      <td>-0.121</td>\n",
       "      <td>-2.262</td>\n",
       "      <td>0.525</td>\n",
       "      <td>0.248</td>\n",
       "      <td>0.772</td>\n",
       "      <td>0.909</td>\n",
       "      <td>-0.689</td>\n",
       "      <td>-0.328</td>\n",
       "      <td>-0.139</td>\n",
       "      <td>-0.055</td>\n",
       "      <td>-0.060</td>\n",
       "      <td>378.660</td>\n",
       "      <td>0</td>\n",
       "    </tr>\n",
       "    <tr>\n",
       "      <th>3</th>\n",
       "      <td>1.000</td>\n",
       "      <td>-0.966</td>\n",
       "      <td>-0.185</td>\n",
       "      <td>1.793</td>\n",
       "      <td>-0.863</td>\n",
       "      <td>-0.010</td>\n",
       "      <td>1.247</td>\n",
       "      <td>0.238</td>\n",
       "      <td>0.377</td>\n",
       "      <td>-1.387</td>\n",
       "      <td>-0.055</td>\n",
       "      <td>-0.226</td>\n",
       "      <td>0.178</td>\n",
       "      <td>0.508</td>\n",
       "      <td>-0.288</td>\n",
       "      <td>-0.631</td>\n",
       "      <td>-1.060</td>\n",
       "      <td>-0.684</td>\n",
       "      <td>1.966</td>\n",
       "      <td>-1.233</td>\n",
       "      <td>-0.208</td>\n",
       "      <td>-0.108</td>\n",
       "      <td>0.005</td>\n",
       "      <td>-0.190</td>\n",
       "      <td>-1.176</td>\n",
       "      <td>0.647</td>\n",
       "      <td>-0.222</td>\n",
       "      <td>0.063</td>\n",
       "      <td>0.061</td>\n",
       "      <td>123.500</td>\n",
       "      <td>0</td>\n",
       "    </tr>\n",
       "    <tr>\n",
       "      <th>4</th>\n",
       "      <td>2.000</td>\n",
       "      <td>-1.158</td>\n",
       "      <td>0.878</td>\n",
       "      <td>1.549</td>\n",
       "      <td>0.403</td>\n",
       "      <td>-0.407</td>\n",
       "      <td>0.096</td>\n",
       "      <td>0.593</td>\n",
       "      <td>-0.271</td>\n",
       "      <td>0.818</td>\n",
       "      <td>0.753</td>\n",
       "      <td>-0.823</td>\n",
       "      <td>0.538</td>\n",
       "      <td>1.346</td>\n",
       "      <td>-1.120</td>\n",
       "      <td>0.175</td>\n",
       "      <td>-0.451</td>\n",
       "      <td>-0.237</td>\n",
       "      <td>-0.038</td>\n",
       "      <td>0.803</td>\n",
       "      <td>0.409</td>\n",
       "      <td>-0.009</td>\n",
       "      <td>0.798</td>\n",
       "      <td>-0.137</td>\n",
       "      <td>0.141</td>\n",
       "      <td>-0.206</td>\n",
       "      <td>0.502</td>\n",
       "      <td>0.219</td>\n",
       "      <td>0.215</td>\n",
       "      <td>69.990</td>\n",
       "      <td>0</td>\n",
       "    </tr>\n",
       "    <tr>\n",
       "      <th>...</th>\n",
       "      <td>...</td>\n",
       "      <td>...</td>\n",
       "      <td>...</td>\n",
       "      <td>...</td>\n",
       "      <td>...</td>\n",
       "      <td>...</td>\n",
       "      <td>...</td>\n",
       "      <td>...</td>\n",
       "      <td>...</td>\n",
       "      <td>...</td>\n",
       "      <td>...</td>\n",
       "      <td>...</td>\n",
       "      <td>...</td>\n",
       "      <td>...</td>\n",
       "      <td>...</td>\n",
       "      <td>...</td>\n",
       "      <td>...</td>\n",
       "      <td>...</td>\n",
       "      <td>...</td>\n",
       "      <td>...</td>\n",
       "      <td>...</td>\n",
       "      <td>...</td>\n",
       "      <td>...</td>\n",
       "      <td>...</td>\n",
       "      <td>...</td>\n",
       "      <td>...</td>\n",
       "      <td>...</td>\n",
       "      <td>...</td>\n",
       "      <td>...</td>\n",
       "      <td>...</td>\n",
       "      <td>...</td>\n",
       "    </tr>\n",
       "    <tr>\n",
       "      <th>284802</th>\n",
       "      <td>172786.000</td>\n",
       "      <td>-11.881</td>\n",
       "      <td>10.072</td>\n",
       "      <td>-9.835</td>\n",
       "      <td>-2.067</td>\n",
       "      <td>-5.364</td>\n",
       "      <td>-2.607</td>\n",
       "      <td>-4.918</td>\n",
       "      <td>7.305</td>\n",
       "      <td>1.914</td>\n",
       "      <td>4.356</td>\n",
       "      <td>-1.593</td>\n",
       "      <td>2.712</td>\n",
       "      <td>-0.689</td>\n",
       "      <td>4.627</td>\n",
       "      <td>-0.924</td>\n",
       "      <td>1.108</td>\n",
       "      <td>1.992</td>\n",
       "      <td>0.511</td>\n",
       "      <td>-0.683</td>\n",
       "      <td>1.476</td>\n",
       "      <td>0.213</td>\n",
       "      <td>0.112</td>\n",
       "      <td>1.014</td>\n",
       "      <td>-0.509</td>\n",
       "      <td>1.437</td>\n",
       "      <td>0.250</td>\n",
       "      <td>0.944</td>\n",
       "      <td>0.824</td>\n",
       "      <td>0.770</td>\n",
       "      <td>0</td>\n",
       "    </tr>\n",
       "    <tr>\n",
       "      <th>284803</th>\n",
       "      <td>172787.000</td>\n",
       "      <td>-0.733</td>\n",
       "      <td>-0.055</td>\n",
       "      <td>2.035</td>\n",
       "      <td>-0.739</td>\n",
       "      <td>0.868</td>\n",
       "      <td>1.058</td>\n",
       "      <td>0.024</td>\n",
       "      <td>0.295</td>\n",
       "      <td>0.585</td>\n",
       "      <td>-0.976</td>\n",
       "      <td>-0.150</td>\n",
       "      <td>0.916</td>\n",
       "      <td>1.215</td>\n",
       "      <td>-0.675</td>\n",
       "      <td>1.165</td>\n",
       "      <td>-0.712</td>\n",
       "      <td>-0.026</td>\n",
       "      <td>-1.221</td>\n",
       "      <td>-1.546</td>\n",
       "      <td>0.060</td>\n",
       "      <td>0.214</td>\n",
       "      <td>0.924</td>\n",
       "      <td>0.012</td>\n",
       "      <td>-1.016</td>\n",
       "      <td>-0.607</td>\n",
       "      <td>-0.395</td>\n",
       "      <td>0.068</td>\n",
       "      <td>-0.054</td>\n",
       "      <td>24.790</td>\n",
       "      <td>0</td>\n",
       "    </tr>\n",
       "    <tr>\n",
       "      <th>284804</th>\n",
       "      <td>172788.000</td>\n",
       "      <td>1.920</td>\n",
       "      <td>-0.301</td>\n",
       "      <td>-3.250</td>\n",
       "      <td>-0.558</td>\n",
       "      <td>2.631</td>\n",
       "      <td>3.031</td>\n",
       "      <td>-0.297</td>\n",
       "      <td>0.708</td>\n",
       "      <td>0.432</td>\n",
       "      <td>-0.485</td>\n",
       "      <td>0.412</td>\n",
       "      <td>0.063</td>\n",
       "      <td>-0.184</td>\n",
       "      <td>-0.511</td>\n",
       "      <td>1.329</td>\n",
       "      <td>0.141</td>\n",
       "      <td>0.314</td>\n",
       "      <td>0.396</td>\n",
       "      <td>-0.577</td>\n",
       "      <td>0.001</td>\n",
       "      <td>0.232</td>\n",
       "      <td>0.578</td>\n",
       "      <td>-0.038</td>\n",
       "      <td>0.640</td>\n",
       "      <td>0.266</td>\n",
       "      <td>-0.087</td>\n",
       "      <td>0.004</td>\n",
       "      <td>-0.027</td>\n",
       "      <td>67.880</td>\n",
       "      <td>0</td>\n",
       "    </tr>\n",
       "    <tr>\n",
       "      <th>284805</th>\n",
       "      <td>172788.000</td>\n",
       "      <td>-0.240</td>\n",
       "      <td>0.530</td>\n",
       "      <td>0.703</td>\n",
       "      <td>0.690</td>\n",
       "      <td>-0.378</td>\n",
       "      <td>0.624</td>\n",
       "      <td>-0.686</td>\n",
       "      <td>0.679</td>\n",
       "      <td>0.392</td>\n",
       "      <td>-0.399</td>\n",
       "      <td>-1.934</td>\n",
       "      <td>-0.963</td>\n",
       "      <td>-1.042</td>\n",
       "      <td>0.450</td>\n",
       "      <td>1.963</td>\n",
       "      <td>-0.609</td>\n",
       "      <td>0.510</td>\n",
       "      <td>1.114</td>\n",
       "      <td>2.898</td>\n",
       "      <td>0.127</td>\n",
       "      <td>0.265</td>\n",
       "      <td>0.800</td>\n",
       "      <td>-0.163</td>\n",
       "      <td>0.123</td>\n",
       "      <td>-0.569</td>\n",
       "      <td>0.547</td>\n",
       "      <td>0.109</td>\n",
       "      <td>0.105</td>\n",
       "      <td>10.000</td>\n",
       "      <td>0</td>\n",
       "    </tr>\n",
       "    <tr>\n",
       "      <th>284806</th>\n",
       "      <td>172792.000</td>\n",
       "      <td>-0.533</td>\n",
       "      <td>-0.190</td>\n",
       "      <td>0.703</td>\n",
       "      <td>-0.506</td>\n",
       "      <td>-0.013</td>\n",
       "      <td>-0.650</td>\n",
       "      <td>1.577</td>\n",
       "      <td>-0.415</td>\n",
       "      <td>0.486</td>\n",
       "      <td>-0.915</td>\n",
       "      <td>-1.040</td>\n",
       "      <td>-0.032</td>\n",
       "      <td>-0.188</td>\n",
       "      <td>-0.084</td>\n",
       "      <td>0.041</td>\n",
       "      <td>-0.303</td>\n",
       "      <td>-0.660</td>\n",
       "      <td>0.167</td>\n",
       "      <td>-0.256</td>\n",
       "      <td>0.383</td>\n",
       "      <td>0.261</td>\n",
       "      <td>0.643</td>\n",
       "      <td>0.377</td>\n",
       "      <td>0.009</td>\n",
       "      <td>-0.474</td>\n",
       "      <td>-0.818</td>\n",
       "      <td>-0.002</td>\n",
       "      <td>0.014</td>\n",
       "      <td>217.000</td>\n",
       "      <td>0</td>\n",
       "    </tr>\n",
       "  </tbody>\n",
       "</table>\n",
       "<p>284807 rows × 31 columns</p>\n",
       "</div>"
      ],
      "text/plain": [
       "             Time      V1     V2     V3     V4     V5     V6     V7     V8  \\\n",
       "0           0.000  -1.360 -0.073  2.536  1.378 -0.338  0.462  0.240  0.099   \n",
       "1           0.000   1.192  0.266  0.166  0.448  0.060 -0.082 -0.079  0.085   \n",
       "2           1.000  -1.358 -1.340  1.773  0.380 -0.503  1.800  0.791  0.248   \n",
       "3           1.000  -0.966 -0.185  1.793 -0.863 -0.010  1.247  0.238  0.377   \n",
       "4           2.000  -1.158  0.878  1.549  0.403 -0.407  0.096  0.593 -0.271   \n",
       "...           ...     ...    ...    ...    ...    ...    ...    ...    ...   \n",
       "284802 172786.000 -11.881 10.072 -9.835 -2.067 -5.364 -2.607 -4.918  7.305   \n",
       "284803 172787.000  -0.733 -0.055  2.035 -0.739  0.868  1.058  0.024  0.295   \n",
       "284804 172788.000   1.920 -0.301 -3.250 -0.558  2.631  3.031 -0.297  0.708   \n",
       "284805 172788.000  -0.240  0.530  0.703  0.690 -0.378  0.624 -0.686  0.679   \n",
       "284806 172792.000  -0.533 -0.190  0.703 -0.506 -0.013 -0.650  1.577 -0.415   \n",
       "\n",
       "           V9    V10    V11    V12    V13    V14    V15    V16    V17    V18  \\\n",
       "0       0.364  0.091 -0.552 -0.618 -0.991 -0.311  1.468 -0.470  0.208  0.026   \n",
       "1      -0.255 -0.167  1.613  1.065  0.489 -0.144  0.636  0.464 -0.115 -0.183   \n",
       "2      -1.515  0.208  0.625  0.066  0.717 -0.166  2.346 -2.890  1.110 -0.121   \n",
       "3      -1.387 -0.055 -0.226  0.178  0.508 -0.288 -0.631 -1.060 -0.684  1.966   \n",
       "4       0.818  0.753 -0.823  0.538  1.346 -1.120  0.175 -0.451 -0.237 -0.038   \n",
       "...       ...    ...    ...    ...    ...    ...    ...    ...    ...    ...   \n",
       "284802  1.914  4.356 -1.593  2.712 -0.689  4.627 -0.924  1.108  1.992  0.511   \n",
       "284803  0.585 -0.976 -0.150  0.916  1.215 -0.675  1.165 -0.712 -0.026 -1.221   \n",
       "284804  0.432 -0.485  0.412  0.063 -0.184 -0.511  1.329  0.141  0.314  0.396   \n",
       "284805  0.392 -0.399 -1.934 -0.963 -1.042  0.450  1.963 -0.609  0.510  1.114   \n",
       "284806  0.486 -0.915 -1.040 -0.032 -0.188 -0.084  0.041 -0.303 -0.660  0.167   \n",
       "\n",
       "          V19    V20    V21    V22    V23    V24    V25    V26    V27    V28  \\\n",
       "0       0.404  0.251 -0.018  0.278 -0.110  0.067  0.129 -0.189  0.134 -0.021   \n",
       "1      -0.146 -0.069 -0.226 -0.639  0.101 -0.340  0.167  0.126 -0.009  0.015   \n",
       "2      -2.262  0.525  0.248  0.772  0.909 -0.689 -0.328 -0.139 -0.055 -0.060   \n",
       "3      -1.233 -0.208 -0.108  0.005 -0.190 -1.176  0.647 -0.222  0.063  0.061   \n",
       "4       0.803  0.409 -0.009  0.798 -0.137  0.141 -0.206  0.502  0.219  0.215   \n",
       "...       ...    ...    ...    ...    ...    ...    ...    ...    ...    ...   \n",
       "284802 -0.683  1.476  0.213  0.112  1.014 -0.509  1.437  0.250  0.944  0.824   \n",
       "284803 -1.546  0.060  0.214  0.924  0.012 -1.016 -0.607 -0.395  0.068 -0.054   \n",
       "284804 -0.577  0.001  0.232  0.578 -0.038  0.640  0.266 -0.087  0.004 -0.027   \n",
       "284805  2.898  0.127  0.265  0.800 -0.163  0.123 -0.569  0.547  0.109  0.105   \n",
       "284806 -0.256  0.383  0.261  0.643  0.377  0.009 -0.474 -0.818 -0.002  0.014   \n",
       "\n",
       "        Amount  Class  \n",
       "0      149.620      0  \n",
       "1        2.690      0  \n",
       "2      378.660      0  \n",
       "3      123.500      0  \n",
       "4       69.990      0  \n",
       "...        ...    ...  \n",
       "284802   0.770      0  \n",
       "284803  24.790      0  \n",
       "284804  67.880      0  \n",
       "284805  10.000      0  \n",
       "284806 217.000      0  \n",
       "\n",
       "[284807 rows x 31 columns]"
      ]
     },
     "execution_count": 35,
     "metadata": {},
     "output_type": "execute_result"
    }
   ],
   "source": [
    "df"
   ]
  },
  {
   "cell_type": "code",
   "execution_count": 36,
   "metadata": {},
   "outputs": [
    {
     "data": {
      "image/png": "[encoded data removed]",
      "text/plain": [
       "<Figure size 936x360 with 2 Axes>"
      ]
     },
     "metadata": {},
     "output_type": "display_data"
    }
   ],
   "source": [
    "plt.figure(figsize=(13,5))\n",
    "\n",
    "x = df['Class'].value_counts().index\n",
    "y = df['Class'].value_counts().values\n",
    "\n",
    "plt.subplot(121)\n",
    "g = plt.bar(x, y, label='Class', color=['green','red'])\n",
    "plt.bar_label(g, padding=3, size=13), plt.ylim(0, 320000)\n",
    "\n",
    "plt.xlabel('Class'), plt.ylabel('Count') \n",
    "plt.title('Distribution of Transactions\\n(Fraudulent or Not)', size=13)\n",
    "   \n",
    "plt.subplot(122)\n",
    "plt.pie(y, labels=x, autopct='%0.2f%%', radius=1.2, textprops={'color':'black','fontsize': 13}, \n",
    "        colors=['green','red'])\n",
    "plt.legend()\n",
    "\n",
    "plt.tight_layout();"
   ]
  },
  {
   "cell_type": "code",
   "execution_count": 37,
   "metadata": {},
   "outputs": [
    {
     "data": {
      "text/plain": [
       "0    284315\n",
       "1       492\n",
       "Name: Class, dtype: int64"
      ]
     },
     "execution_count": 37,
     "metadata": {},
     "output_type": "execute_result"
    }
   ],
   "source": [
    "df['Class'].value_counts()"
   ]
  },
  {
   "cell_type": "markdown",
   "metadata": {},
   "source": [
    "### Data'da 30 features(X) bulunduğundan Fraud'ların ne gibi farklılıkları olduğunu bulmak gerekir."
   ]
  },
  {
   "cell_type": "code",
   "execution_count": 38,
   "metadata": {},
   "outputs": [
    {
     "data": {
      "text/plain": [
       "Time      0\n",
       "V1        0\n",
       "V2        0\n",
       "V3        0\n",
       "V4        0\n",
       "V5        0\n",
       "V6        0\n",
       "V7        0\n",
       "V8        0\n",
       "V9        0\n",
       "V10       0\n",
       "V11       0\n",
       "V12       0\n",
       "V13       0\n",
       "V14       0\n",
       "V15       0\n",
       "V16       0\n",
       "V17       0\n",
       "V18       0\n",
       "V19       0\n",
       "V20       0\n",
       "V21       0\n",
       "V22       0\n",
       "V23       0\n",
       "V24       0\n",
       "V25       0\n",
       "V26       0\n",
       "V27       0\n",
       "V28       0\n",
       "Amount    0\n",
       "Class     0\n",
       "dtype: int64"
      ]
     },
     "execution_count": 38,
     "metadata": {},
     "output_type": "execute_result"
    }
   ],
   "source": [
    "df.isnull().sum()"
   ]
  },
  {
   "cell_type": "code",
   "execution_count": 39,
   "metadata": {},
   "outputs": [
    {
     "name": "stdout",
     "output_type": "stream",
     "text": [
      "Missing Value   :  0\n"
     ]
    }
   ],
   "source": [
    "print('Missing Value   : ', df.isnull().sum().sum())"
   ]
  },
  {
   "cell_type": "code",
   "execution_count": 51,
   "metadata": {},
   "outputs": [],
   "source": [
    "non_fraud = df[df.Class == 0]\n",
    "fraud = df[df.Class == 1]"
   ]
  },
  {
   "cell_type": "code",
   "execution_count": 52,
   "metadata": {},
   "outputs": [
    {
     "data": {
      "text/plain": [
       "(492, 31)"
      ]
     },
     "execution_count": 52,
     "metadata": {},
     "output_type": "execute_result"
    }
   ],
   "source": [
    "fraud.shape"
   ]
  },
  {
   "cell_type": "code",
   "execution_count": 53,
   "metadata": {},
   "outputs": [
    {
     "data": {
      "text/plain": [
       "count    492.000\n",
       "mean     122.211\n",
       "std      256.683\n",
       "min        0.000\n",
       "25%        1.000\n",
       "50%        9.250\n",
       "75%      105.890\n",
       "max     2125.870\n",
       "Name: Amount, dtype: float64"
      ]
     },
     "execution_count": 53,
     "metadata": {},
     "output_type": "execute_result"
    }
   ],
   "source": [
    "fraud[\"Amount\"].describe()"
   ]
  },
  {
   "cell_type": "markdown",
   "metadata": {},
   "source": [
    "## amount = 0 olan bir işlem nasıl fraud olabilir ? dolandırıcılar, kartın gizli ayrıntılarını güvenli olmayan web sitelerinden alabilir. eğer + bir kimlilk doğrulama işlemi varsa amount = 0 gözükür."
   ]
  },
  {
   "cell_type": "code",
   "execution_count": 54,
   "metadata": {},
   "outputs": [
    {
     "data": {
      "text/plain": [
       "count   284315.000\n",
       "mean        88.291\n",
       "std        250.105\n",
       "min          0.000\n",
       "25%          5.650\n",
       "50%         22.000\n",
       "75%         77.050\n",
       "max      25691.160\n",
       "Name: Amount, dtype: float64"
      ]
     },
     "execution_count": 54,
     "metadata": {},
     "output_type": "execute_result"
    }
   ],
   "source": [
    "non_fraud[\"Amount\"].describe()"
   ]
  },
  {
   "cell_type": "markdown",
   "metadata": {},
   "source": [
    "## veri setindeki maximum amount not_fraud'muş."
   ]
  },
  {
   "cell_type": "code",
   "execution_count": 55,
   "metadata": {},
   "outputs": [
    {
     "data": {
      "text/html": [
       "<div>\n",
       "<style scoped>\n",
       "    .dataframe tbody tr th:only-of-type {\n",
       "        vertical-align: middle;\n",
       "    }\n",
       "\n",
       "    .dataframe tbody tr th {\n",
       "        vertical-align: top;\n",
       "    }\n",
       "\n",
       "    .dataframe thead th {\n",
       "        text-align: right;\n",
       "    }\n",
       "</style>\n",
       "<table border=\"1\" class=\"dataframe\">\n",
       "  <thead>\n",
       "    <tr style=\"text-align: right;\">\n",
       "      <th></th>\n",
       "      <th>Time</th>\n",
       "      <th>V1</th>\n",
       "      <th>V2</th>\n",
       "      <th>V3</th>\n",
       "      <th>V4</th>\n",
       "      <th>V5</th>\n",
       "      <th>V6</th>\n",
       "      <th>V7</th>\n",
       "      <th>V8</th>\n",
       "      <th>V9</th>\n",
       "      <th>V10</th>\n",
       "      <th>V11</th>\n",
       "      <th>V12</th>\n",
       "      <th>V13</th>\n",
       "      <th>V14</th>\n",
       "      <th>V15</th>\n",
       "      <th>V16</th>\n",
       "      <th>V17</th>\n",
       "      <th>V18</th>\n",
       "      <th>V19</th>\n",
       "      <th>V20</th>\n",
       "      <th>V21</th>\n",
       "      <th>V22</th>\n",
       "      <th>V23</th>\n",
       "      <th>V24</th>\n",
       "      <th>V25</th>\n",
       "      <th>V26</th>\n",
       "      <th>V27</th>\n",
       "      <th>V28</th>\n",
       "      <th>Amount</th>\n",
       "    </tr>\n",
       "    <tr>\n",
       "      <th>Class</th>\n",
       "      <th></th>\n",
       "      <th></th>\n",
       "      <th></th>\n",
       "      <th></th>\n",
       "      <th></th>\n",
       "      <th></th>\n",
       "      <th></th>\n",
       "      <th></th>\n",
       "      <th></th>\n",
       "      <th></th>\n",
       "      <th></th>\n",
       "      <th></th>\n",
       "      <th></th>\n",
       "      <th></th>\n",
       "      <th></th>\n",
       "      <th></th>\n",
       "      <th></th>\n",
       "      <th></th>\n",
       "      <th></th>\n",
       "      <th></th>\n",
       "      <th></th>\n",
       "      <th></th>\n",
       "      <th></th>\n",
       "      <th></th>\n",
       "      <th></th>\n",
       "      <th></th>\n",
       "      <th></th>\n",
       "      <th></th>\n",
       "      <th></th>\n",
       "      <th></th>\n",
       "    </tr>\n",
       "  </thead>\n",
       "  <tbody>\n",
       "    <tr>\n",
       "      <th>0</th>\n",
       "      <td>94838.202</td>\n",
       "      <td>0.008</td>\n",
       "      <td>-0.006</td>\n",
       "      <td>0.012</td>\n",
       "      <td>-0.008</td>\n",
       "      <td>0.005</td>\n",
       "      <td>0.002</td>\n",
       "      <td>0.010</td>\n",
       "      <td>-0.001</td>\n",
       "      <td>0.004</td>\n",
       "      <td>0.010</td>\n",
       "      <td>-0.007</td>\n",
       "      <td>0.011</td>\n",
       "      <td>0.000</td>\n",
       "      <td>0.012</td>\n",
       "      <td>0.000</td>\n",
       "      <td>0.007</td>\n",
       "      <td>0.012</td>\n",
       "      <td>0.004</td>\n",
       "      <td>-0.001</td>\n",
       "      <td>-0.001</td>\n",
       "      <td>-0.001</td>\n",
       "      <td>-0.000</td>\n",
       "      <td>0.000</td>\n",
       "      <td>0.000</td>\n",
       "      <td>-0.000</td>\n",
       "      <td>-0.000</td>\n",
       "      <td>-0.000</td>\n",
       "      <td>-0.000</td>\n",
       "      <td>88.291</td>\n",
       "    </tr>\n",
       "    <tr>\n",
       "      <th>1</th>\n",
       "      <td>80746.807</td>\n",
       "      <td>-4.772</td>\n",
       "      <td>3.624</td>\n",
       "      <td>-7.033</td>\n",
       "      <td>4.542</td>\n",
       "      <td>-3.151</td>\n",
       "      <td>-1.398</td>\n",
       "      <td>-5.569</td>\n",
       "      <td>0.571</td>\n",
       "      <td>-2.581</td>\n",
       "      <td>-5.677</td>\n",
       "      <td>3.800</td>\n",
       "      <td>-6.259</td>\n",
       "      <td>-0.109</td>\n",
       "      <td>-6.972</td>\n",
       "      <td>-0.093</td>\n",
       "      <td>-4.140</td>\n",
       "      <td>-6.666</td>\n",
       "      <td>-2.246</td>\n",
       "      <td>0.681</td>\n",
       "      <td>0.372</td>\n",
       "      <td>0.714</td>\n",
       "      <td>0.014</td>\n",
       "      <td>-0.040</td>\n",
       "      <td>-0.105</td>\n",
       "      <td>0.041</td>\n",
       "      <td>0.052</td>\n",
       "      <td>0.171</td>\n",
       "      <td>0.076</td>\n",
       "      <td>122.211</td>\n",
       "    </tr>\n",
       "  </tbody>\n",
       "</table>\n",
       "</div>"
      ],
      "text/plain": [
       "           Time     V1     V2     V3     V4     V5     V6     V7     V8  \\\n",
       "Class                                                                     \n",
       "0     94838.202  0.008 -0.006  0.012 -0.008  0.005  0.002  0.010 -0.001   \n",
       "1     80746.807 -4.772  3.624 -7.033  4.542 -3.151 -1.398 -5.569  0.571   \n",
       "\n",
       "          V9    V10    V11    V12    V13    V14    V15    V16    V17    V18  \\\n",
       "Class                                                                         \n",
       "0      0.004  0.010 -0.007  0.011  0.000  0.012  0.000  0.007  0.012  0.004   \n",
       "1     -2.581 -5.677  3.800 -6.259 -0.109 -6.972 -0.093 -4.140 -6.666 -2.246   \n",
       "\n",
       "         V19    V20    V21    V22    V23    V24    V25    V26    V27    V28  \\\n",
       "Class                                                                         \n",
       "0     -0.001 -0.001 -0.001 -0.000  0.000  0.000 -0.000 -0.000 -0.000 -0.000   \n",
       "1      0.681  0.372  0.714  0.014 -0.040 -0.105  0.041  0.052  0.171  0.076   \n",
       "\n",
       "       Amount  \n",
       "Class          \n",
       "0      88.291  \n",
       "1     122.211  "
      ]
     },
     "execution_count": 55,
     "metadata": {},
     "output_type": "execute_result"
    }
   ],
   "source": [
    "df.groupby('Class').mean()"
   ]
  },
  {
   "cell_type": "markdown",
   "metadata": {},
   "source": [
    "### normal işlemlerdeki v'ler 0.00"
   ]
  },
  {
   "cell_type": "markdown",
   "metadata": {},
   "source": [
    "## fraud olanlar için ortalama amount  daha fazladır."
   ]
  },
  {
   "cell_type": "markdown",
   "metadata": {},
   "source": [
    "## v'leri - olan ve 1'i geçenler : v(1 3 5 6 7 9 10 12 14 16 17 18)\n",
    "\n",
    "## v'leri +  olan ve 1'i geçenler : v(2 4 11 )"
   ]
  },
  {
   "cell_type": "code",
   "execution_count": 56,
   "metadata": {},
   "outputs": [
    {
     "name": "stdout",
     "output_type": "stream",
     "text": [
      "Total Amount\t\t   :  25162590.01\n",
      "Fraud Amount\t\t   :  60127.97\n",
      "Non-Fraud Amount\t   :  25102462.04\n",
      "Percentage of Fraud Amount :  0.239\n"
     ]
    }
   ],
   "source": [
    "print(\"Total Amount\\t\\t   : \", np.round(df.Amount.sum(), 3))\n",
    "print(\"Fraud Amount\\t\\t   : \", np.round(fraud.Amount.sum(),3))\n",
    "print(\"Non-Fraud Amount\\t   : \", np.round(non_fraud.Amount.sum(), 3))\n",
    "print(\"Percentage of Fraud Amount : \", np.round((fraud.Amount.sum()/df.Amount.sum())*100, decimals=3))"
   ]
  },
  {
   "cell_type": "markdown",
   "metadata": {},
   "source": [
    "###  V1-V28 featureları sıfır merkezlidir, ancak diğer iki fearure Time ve Amount  öyle değildir."
   ]
  },
  {
   "cell_type": "code",
   "execution_count": 58,
   "metadata": {},
   "outputs": [
    {
     "data": {
      "text/plain": [
       "<AxesSubplot:>"
      ]
     },
     "execution_count": 58,
     "metadata": {},
     "output_type": "execute_result"
    },
    {
     "data": {
      "image/png": "[encoded data removed]",
      "text/plain": [
       "<Figure size 1800x1008 with 2 Axes>"
      ]
     },
     "metadata": {},
     "output_type": "display_data"
    }
   ],
   "source": [
    "plt.figure(figsize=(25, 14))\n",
    "sns.heatmap(df.drop('Class',1).corr(), annot=True, cmap='Blues', linewidth=1, linecolor='black', fmt='.2f')"
   ]
  },
  {
   "cell_type": "markdown",
   "metadata": {},
   "source": [
    "## v7 - amount v-20 v2 v5 vs bunlara dikkat diğerlerinin 0 olmasının nedeni ?"
   ]
  },
  {
   "cell_type": "markdown",
   "metadata": {},
   "source": [
    "### PCA SONUCUNDA ELDE EDİLEN PRİNCİPAL COMPONENTLER BİRBİRİNDEN TAMAMEN BAĞIMZSIDIR VE DOLAYISIYLA KORELASYONLARI YOKTUR.Dolayısıyla korelasyon analizine dayalı herhangi bir özelliği kaldırmamız gerekmiyor."
   ]
  },
  {
   "cell_type": "code",
   "execution_count": null,
   "metadata": {},
   "outputs": [],
   "source": []
  },
  {
   "cell_type": "code",
   "execution_count": 50,
   "metadata": {},
   "outputs": [
    {
     "data": {
      "image/png": "[encoded data removed]",
      "text/plain": [
       "<Figure size 1080x1440 with 31 Axes>"
      ]
     },
     "metadata": {},
     "output_type": "display_data"
    }
   ],
   "source": [
    "## Histograms\n",
    "fig = plt.figure(figsize=(15, 20))\n",
    "plt.suptitle('Histograms of Numerical Columns', fontsize=20)\n",
    "for i in range(df.shape[1]):\n",
    "    plt.subplot(8, 4, i+1)\n",
    "    f = plt.gca()\n",
    "    f.set_title(df.columns.values[i])                                     \n",
    "    sns.histplot(df.iloc[:, i])\n",
    "    \n",
    "plt.tight_layout(rect=[0, 0.03, 1, 0.95])"
   ]
  },
  {
   "cell_type": "markdown",
   "metadata": {},
   "source": [
    "## dikkat [V1-V28] ARASINDAKİLER NEDEN COMPONENT'TİR :\n",
    "\n",
    "#### 1- ) KORELASYONLARI 0\n",
    "     2-) STANDARDİZASYON YAPILMIŞTIR ( Z-SCORE ) MEAN : 0 STD : 1 \n",
    "     3-) HİSTOGRAMLARINA BAKTIĞIMIZDA Gauss dağılımındalar.\n",
    "     4-) V'lerde missing value olmaması. PCA MİSSİNG VALUELARI KABUL ETMEZ "
   ]
  },
  {
   "cell_type": "markdown",
   "metadata": {},
   "source": [
    "## Bu nedenle, PCA dönüşümü ile dimension reduction tekrardan bu dataseetine YAPILAMAZ.\n",
    "## feature selection yapabiliriz ama !"
   ]
  },
  {
   "cell_type": "markdown",
   "metadata": {},
   "source": [
    "### biz V feature'larından bir inside elde edemeyiz amount ve time'a yoğunlaşmak daha iyi olacak."
   ]
  },
  {
   "cell_type": "code",
   "execution_count": 59,
   "metadata": {},
   "outputs": [
    {
     "data": {
      "text/html": [
       "<div>\n",
       "<style scoped>\n",
       "    .dataframe tbody tr th:only-of-type {\n",
       "        vertical-align: middle;\n",
       "    }\n",
       "\n",
       "    .dataframe tbody tr th {\n",
       "        vertical-align: top;\n",
       "    }\n",
       "\n",
       "    .dataframe thead th {\n",
       "        text-align: right;\n",
       "    }\n",
       "</style>\n",
       "<table border=\"1\" class=\"dataframe\">\n",
       "  <thead>\n",
       "    <tr style=\"text-align: right;\">\n",
       "      <th></th>\n",
       "      <th>Time</th>\n",
       "      <th>Amount</th>\n",
       "    </tr>\n",
       "  </thead>\n",
       "  <tbody>\n",
       "    <tr>\n",
       "      <th>count</th>\n",
       "      <td>284807.000</td>\n",
       "      <td>284807.000</td>\n",
       "    </tr>\n",
       "    <tr>\n",
       "      <th>mean</th>\n",
       "      <td>94813.860</td>\n",
       "      <td>88.350</td>\n",
       "    </tr>\n",
       "    <tr>\n",
       "      <th>std</th>\n",
       "      <td>47488.146</td>\n",
       "      <td>250.120</td>\n",
       "    </tr>\n",
       "    <tr>\n",
       "      <th>min</th>\n",
       "      <td>0.000</td>\n",
       "      <td>0.000</td>\n",
       "    </tr>\n",
       "    <tr>\n",
       "      <th>25%</th>\n",
       "      <td>54201.500</td>\n",
       "      <td>5.600</td>\n",
       "    </tr>\n",
       "    <tr>\n",
       "      <th>50%</th>\n",
       "      <td>84692.000</td>\n",
       "      <td>22.000</td>\n",
       "    </tr>\n",
       "    <tr>\n",
       "      <th>75%</th>\n",
       "      <td>139320.500</td>\n",
       "      <td>77.165</td>\n",
       "    </tr>\n",
       "    <tr>\n",
       "      <th>max</th>\n",
       "      <td>172792.000</td>\n",
       "      <td>25691.160</td>\n",
       "    </tr>\n",
       "  </tbody>\n",
       "</table>\n",
       "</div>"
      ],
      "text/plain": [
       "            Time     Amount\n",
       "count 284807.000 284807.000\n",
       "mean   94813.860     88.350\n",
       "std    47488.146    250.120\n",
       "min        0.000      0.000\n",
       "25%    54201.500      5.600\n",
       "50%    84692.000     22.000\n",
       "75%   139320.500     77.165\n",
       "max   172792.000  25691.160"
      ]
     },
     "execution_count": 59,
     "metadata": {},
     "output_type": "execute_result"
    }
   ],
   "source": [
    "df[[\"Time\",\"Amount\"]].describe()"
   ]
  },
  {
   "cell_type": "markdown",
   "metadata": {},
   "source": [
    "### çoğu miktarın küçük olduğunu görebiliriz, ortalama yaklaşık 88 ve gözlemlerin orta yüzde 50'si 5 ile 77 arasındadır. En büyük değer yaklaşık 25.691'dir ve bu da dağılımı yukarı çeker ve aykırı değer olabilir (örneğin, birisi kredi kartıyla araba satın almış)"
   ]
  },
  {
   "cell_type": "code",
   "execution_count": 49,
   "metadata": {},
   "outputs": [
    {
     "data": {
      "text/plain": [
       "<AxesSubplot:xlabel='Amount'>"
      ]
     },
     "execution_count": 49,
     "metadata": {},
     "output_type": "execute_result"
    },
    {
     "data": {
      "image/png": "[encoded data removed]",
      "text/plain": [
       "<Figure size 720x432 with 1 Axes>"
      ]
     },
     "metadata": {},
     "output_type": "display_data"
    }
   ],
   "source": [
    "sns.boxplot(data=df, x='Amount')"
   ]
  },
  {
   "cell_type": "code",
   "execution_count": 64,
   "metadata": {},
   "outputs": [
    {
     "data": {
      "text/plain": [
       "<AxesSubplot:xlabel='Amount'>"
      ]
     },
     "execution_count": 64,
     "metadata": {},
     "output_type": "execute_result"
    },
    {
     "data": {
      "image/png": "[encoded data removed]",
      "text/plain": [
       "<Figure size 1440x432 with 2 Axes>"
      ]
     },
     "metadata": {},
     "output_type": "display_data"
    }
   ],
   "source": [
    "fig , (ax1,ax2)  = plt.subplots(2,1,figsize=(20,6))\n",
    "sns.distplot(df[\"Amount\"],ax = ax1)\n",
    "sns.boxplot(df[\"Amount\"],ax = ax2)"
   ]
  },
  {
   "cell_type": "markdown",
   "metadata": {},
   "source": [
    "## Dağılım grafiğini ve kutu grafiğini çizdikten sonra, özelliğin büyük ölçüde sağa çarpık olduğunu ve çok sayıda ou'ya sahip olduğunu görebiliriz ve Bu, kredi kartı dolandırıcılık tespit modelini yanlış yönlendirebilir -"
   ]
  },
  {
   "cell_type": "code",
   "execution_count": 65,
   "metadata": {},
   "outputs": [],
   "source": [
    "from scipy.stats import iqr"
   ]
  },
  {
   "cell_type": "code",
   "execution_count": 66,
   "metadata": {},
   "outputs": [
    {
     "data": {
      "text/plain": [
       "71.56"
      ]
     },
     "execution_count": 66,
     "metadata": {},
     "output_type": "execute_result"
    }
   ],
   "source": [
    "iqr(df[\"Amount\"])"
   ]
  },
  {
   "cell_type": "code",
   "execution_count": 67,
   "metadata": {},
   "outputs": [
    {
     "data": {
      "text/plain": [
       "184.49"
      ]
     },
     "execution_count": 67,
     "metadata": {},
     "output_type": "execute_result"
    }
   ],
   "source": [
    "upper_limit = df[\"Amount\"].quantile(0.75)  + (1.5 * iqr(df[\"Amount\"]))\n",
    "upper_limit"
   ]
  },
  {
   "cell_type": "code",
   "execution_count": 68,
   "metadata": {},
   "outputs": [
    {
     "data": {
      "text/plain": [
       "0    31816\n",
       "1       91\n",
       "Name: Class, dtype: int64"
      ]
     },
     "execution_count": 68,
     "metadata": {},
     "output_type": "execute_result"
    }
   ],
   "source": [
    "df[df[\"Amount\"] > upper_limit][\"Class\"].value_counts()"
   ]
  },
  {
   "cell_type": "markdown",
   "metadata": {},
   "source": [
    "## amount özelliği üzerinde IQR analizi yaptığımızda bazı fraud verilerini kaybettiğimizi görebiliyoruz : *********"
   ]
  },
  {
   "cell_type": "markdown",
   "metadata": {},
   "source": [
    "## 1.5 'u değiştirebiliriz unutmayalım."
   ]
  },
  {
   "cell_type": "markdown",
   "metadata": {},
   "source": [
    "## fraud sayım zaten az buna dikkat o yüzden kaldırmamalııyım. sadece class = 0 'ları kaldırsak ne olur buna da bir göz atalım."
   ]
  },
  {
   "cell_type": "code",
   "execution_count": null,
   "metadata": {},
   "outputs": [],
   "source": [
    "df2 = df[df[\"Amount\"] <= 10000]\n",
    "df2[\"Class\"].value_counts()"
   ]
  },
  {
   "cell_type": "code",
   "execution_count": null,
   "metadata": {},
   "outputs": [],
   "source": [
    "df[\"Class\"].value_counts()"
   ]
  },
  {
   "cell_type": "code",
   "execution_count": null,
   "metadata": {},
   "outputs": [],
   "source": []
  },
  {
   "cell_type": "code",
   "execution_count": null,
   "metadata": {},
   "outputs": [],
   "source": [
    "# single_dataset_integrity().run(df)"
   ]
  },
  {
   "cell_type": "markdown",
   "metadata": {},
   "source": [
    "## feature engineering"
   ]
  },
  {
   "cell_type": "code",
   "execution_count": null,
   "metadata": {},
   "outputs": [],
   "source": []
  },
  {
   "cell_type": "code",
   "execution_count": null,
   "metadata": {},
   "outputs": [],
   "source": []
  },
  {
   "cell_type": "code",
   "execution_count": null,
   "metadata": {},
   "outputs": [],
   "source": []
  },
  {
   "cell_type": "code",
   "execution_count": null,
   "metadata": {},
   "outputs": [],
   "source": [
    "# single_dataset_integrity().run(df)"
   ]
  },
  {
   "cell_type": "markdown",
   "metadata": {
    "id": "NGyEoz9fJQ0E"
   },
   "source": [
    "### Data Cleaning\n",
    "Check Missing Values and Outliers"
   ]
  },
  {
   "cell_type": "markdown",
   "metadata": {
    "id": "Yf6VvH6WMuHb"
   },
   "source": [
    "## 2. Data Preprocessing"
   ]
  },
  {
   "cell_type": "markdown",
   "metadata": {
    "id": "hlm6gCsKMuHb"
   },
   "source": [
    "#### Train - Test Split\n",
    "\n",
    "As in this case, for extremely imbalanced datasets you may want to make sure that classes are balanced across train and test data."
   ]
  },
  {
   "cell_type": "code",
   "execution_count": null,
   "metadata": {
    "id": "T9eVirf2UtjT"
   },
   "outputs": [],
   "source": [
    "X = data_clean_df.drop(columns='Class', axis=1)\n",
    "y = data_clean_df['Class']"
   ]
  },
  {
   "cell_type": "code",
   "execution_count": null,
   "metadata": {},
   "outputs": [],
   "source": [
    "X_train, X_test, y_train,y_test = train_test_split(X, y, test_size=0.2, stratify=y, random_state=2)"
   ]
  },
  {
   "cell_type": "markdown",
   "metadata": {
    "id": "Q_CC9vrDq9gl"
   },
   "source": [
    "## Train-Test Validation Checks\n",
    "* link : https://docs.deepchecks.com/stable/user-guide/tabular/auto_quickstarts/plot_quick_train_test_validation.html"
   ]
  },
  {
   "cell_type": "code",
   "execution_count": null,
   "metadata": {},
   "outputs": [],
   "source": [
    "from deepchecks.tabular import Dataset\n",
    "\n",
    "\n",
    "cat_cols = []"
   ]
  },
  {
   "cell_type": "code",
   "execution_count": null,
   "metadata": {},
   "outputs": [],
   "source": [
    "train_ds = Dataset(X_train, label=y_train, cat_features=cat_cols)\n",
    "test_ds = Dataset(X_test, label=y_test, cat_features=cat_cols)"
   ]
  },
  {
   "cell_type": "code",
   "execution_count": null,
   "metadata": {},
   "outputs": [],
   "source": [
    "from deepchecks.tabular.suites import train_test_validation\n",
    "\n",
    "res = train_test_validation().run(train_ds, test_ds)\n",
    "res"
   ]
  },
  {
   "cell_type": "markdown",
   "metadata": {},
   "source": [
    "## buradaki sorunları hallettikten sonra bu uygulamayı tekrar çalıştırıp sonuçlara bakacağız."
   ]
  },
  {
   "cell_type": "code",
   "execution_count": null,
   "metadata": {},
   "outputs": [],
   "source": []
  },
  {
   "cell_type": "code",
   "execution_count": null,
   "metadata": {
    "id": "jCv4onWDq71b"
   },
   "outputs": [],
   "source": []
  },
  {
   "cell_type": "markdown",
   "metadata": {
    "id": "OV28RJBeMuHb"
   },
   "source": [
    "#### Scaling"
   ]
  },
  {
   "cell_type": "code",
   "execution_count": null,
   "metadata": {
    "id": "AuzpxEmKMuHb"
   },
   "outputs": [],
   "source": []
  },
  {
   "cell_type": "markdown",
   "metadata": {
    "id": "HO4HAIofMuHc"
   },
   "source": [
    "---\n",
    "---\n"
   ]
  },
  {
   "cell_type": "markdown",
   "metadata": {
    "id": "MwQdl4PdJQ0I"
   },
   "source": [
    "## 3. Model Building\n",
    "It was previously stated that you need to make class prediction with three different algorithms. As in this case, different approaches are required to obtain better performance on unbalanced data.\n",
    "\n",
    "This dataset is severely **unbalanced** (most of the transactions are non-fraud). So the algorithms are much more likely to classify new observations to the majority class and high accuracy won't tell us anything. To address the problem of imbalanced dataset, we can use undersampling and oversampling or class weight and optimum thresold techniques. \n",
    "\n",
    "***Note***: \n",
    "\n",
    "- *Do not forget to import the necessary libraries and modules before starting the model building!*\n",
    "\n",
    "- *If you are going to use the cross validation method to be more sure of the performance of your model for unbalanced data, you should make sure that the class distributions in the iterations are equal. For this case, you should use **[StratifiedKFold](https://www.analyseup.com/python-machine-learning/stratified-kfold.html)** instead of regular cross validation method.*"
   ]
  },
  {
   "cell_type": "markdown",
   "metadata": {
    "id": "zKZcwgucJQ0I"
   },
   "source": [
    "### Logistic Regression \n",
    "\n",
    "- The steps you are going to cover for this algorithm are as follows: \n",
    "\n",
    "   *i. Import Libraries*\n",
    "   \n",
    "   *ii. Model Training*\n",
    "   \n",
    "   *iii. Prediction and Model Evaluating (Apply StratifiedKFold) and Tuning*\n",
    "   \n",
    "   *iv. Plot Precision and Recall Curve*"
   ]
  },
  {
   "cell_type": "markdown",
   "metadata": {
    "id": "o48s5BCdMuHd"
   },
   "source": [
    "***i. Import Libraries***"
   ]
  },
  {
   "cell_type": "code",
   "execution_count": null,
   "metadata": {
    "id": "3G3cx-UjMuHd"
   },
   "outputs": [],
   "source": []
  },
  {
   "cell_type": "markdown",
   "metadata": {
    "id": "6KD76bc5MuHd"
   },
   "source": [
    "***ii. Model Training***"
   ]
  },
  {
   "cell_type": "code",
   "execution_count": null,
   "metadata": {
    "id": "g7GAK-u3MuHd"
   },
   "outputs": [],
   "source": []
  },
  {
   "cell_type": "markdown",
   "metadata": {
    "id": "uvKAJVTNMuHd"
   },
   "source": [
    "***iii. Prediction and Model Evaluating (Apply StratifiedKFold) and Tuning***"
   ]
  },
  {
   "cell_type": "code",
   "execution_count": null,
   "metadata": {
    "id": "Kb68hH1TMuHd"
   },
   "outputs": [],
   "source": []
  },
  {
   "cell_type": "markdown",
   "metadata": {
    "id": "l193OP5fMuHd"
   },
   "source": [
    "\n",
    "You're evaluating \"accuracy score\"? Is your performance metric reflect real success? You may need to use different metrics to evaluate performance on unbalanced data. You should use **[precision and recall metrics](https://scikit-learn.org/stable/auto_examples/model_selection/plot_precision_recall.html#:~:text=The%20precision%2Drecall%20curve%20shows,a%20low%20false%20negative%20rate.)**."
   ]
  },
  {
   "cell_type": "markdown",
   "metadata": {
    "id": "fUDt5voIMuHe"
   },
   "source": [
    "***iv. Plot Precision and Recall Curve***\n"
   ]
  },
  {
   "cell_type": "code",
   "execution_count": null,
   "metadata": {
    "id": "WI0OI9SDMuHe"
   },
   "outputs": [],
   "source": []
  },
  {
   "cell_type": "markdown",
   "metadata": {
    "id": "bwELs8xsJQ0Q"
   },
   "source": [
    "- Didn't the performance of the model you implemented above satisfy you? If your model is biased towards the majority class and minority class matrics is not sufficient, apply \"unbalanced data tecniques\"."
   ]
  },
  {
   "cell_type": "markdown",
   "metadata": {
    "id": "Yo2yUvCsr0-g"
   },
   "source": [
    "***v. Apply Model Evaluation Checks***\n",
    "* link : https://docs.deepchecks.com/stable/user-guide/tabular/auto_quickstarts/plot_quick_model_evaluation.html"
   ]
  },
  {
   "cell_type": "code",
   "execution_count": null,
   "metadata": {
    "id": "upFDOCu_sIMF"
   },
   "outputs": [],
   "source": []
  },
  {
   "cell_type": "markdown",
   "metadata": {
    "id": "9wvBCEvpJQ0U"
   },
   "source": [
    "### Logistic Regression with Unbalanced Data Techniques\n",
    "\n",
    "- The steps you are going to cover for this algorithm are as follows: \n",
    "\n",
    "   *i. Import Libraries*\n",
    "   \n",
    "   *ii. Model Training*\n",
    "   \n",
    "   *iii. Prediction and Model Evaluating (Apply StratifiedKFold) and Tuning*\n",
    "   \n",
    "   *iv. Plot Precision and Recall Curve*"
   ]
  },
  {
   "cell_type": "markdown",
   "metadata": {
    "id": "IJqXQ_aHMuHf"
   },
   "source": [
    "***i. Train-Test Split (Again)***"
   ]
  },
  {
   "cell_type": "code",
   "execution_count": null,
   "metadata": {
    "id": "Qmc3bUHKMuHf"
   },
   "outputs": [],
   "source": []
  },
  {
   "cell_type": "markdown",
   "metadata": {
    "id": "evc6DLPcMuHf"
   },
   "source": [
    "***ii. Model Training***"
   ]
  },
  {
   "cell_type": "code",
   "execution_count": null,
   "metadata": {
    "id": "hz36IA3EMuHf"
   },
   "outputs": [],
   "source": []
  },
  {
   "cell_type": "markdown",
   "metadata": {
    "id": "kqJHSV5FMuHf"
   },
   "source": [
    "***Prediction and Model Evaluating (Apply StratifiedKFold) and Tuning***"
   ]
  },
  {
   "cell_type": "code",
   "execution_count": null,
   "metadata": {
    "id": "J_lxSdHyMuHg"
   },
   "outputs": [],
   "source": []
  },
  {
   "cell_type": "markdown",
   "metadata": {
    "id": "AFGgLGBqMuHg"
   },
   "source": [
    "***iv.  Plot Precision and Recall Curve***\n"
   ]
  },
  {
   "cell_type": "code",
   "execution_count": null,
   "metadata": {
    "id": "CWdU7r-UMuHg"
   },
   "outputs": [],
   "source": []
  },
  {
   "cell_type": "markdown",
   "metadata": {
    "id": "Akr5mWKhseJ4"
   },
   "source": [
    "***v. Apply Model Evaluation Checks***\n",
    "* link : https://docs.deepchecks.com/stable/user-guide/tabular/auto_quickstarts/plot_quick_model_evaluation.html"
   ]
  },
  {
   "cell_type": "code",
   "execution_count": null,
   "metadata": {
    "id": "KfwffynKsgsa"
   },
   "outputs": [],
   "source": []
  },
  {
   "cell_type": "markdown",
   "metadata": {
    "id": "_3zm70O7JQ0Z"
   },
   "source": [
    "### Random Forest Classifier with Unbalanced Data Techniques\n",
    "\n",
    "- The steps you are going to cover for this algorithm are as follows:\n",
    "\n",
    "   *i. Model Training*\n",
    "   \n",
    "   *ii. Prediction and Model Evaluating (Apply StratifiedKFold) and Tuning*\n",
    "   \n",
    "   *iii. Plot Precision and Recall Curve*\n",
    "   "
   ]
  },
  {
   "cell_type": "markdown",
   "metadata": {
    "id": "sr5U80HbMuHg"
   },
   "source": [
    "***i. Model Training***"
   ]
  },
  {
   "cell_type": "code",
   "execution_count": null,
   "metadata": {
    "id": "kuvRr7f3MuHh"
   },
   "outputs": [],
   "source": []
  },
  {
   "cell_type": "markdown",
   "metadata": {
    "id": "dJ9TJdpmMuHh"
   },
   "source": [
    "***ii. Prediction and Model Evaluating (Apply StratifiedKFold) and Tuning***"
   ]
  },
  {
   "cell_type": "code",
   "execution_count": null,
   "metadata": {
    "id": "BaNd2jTRMuHh"
   },
   "outputs": [],
   "source": []
  },
  {
   "cell_type": "markdown",
   "metadata": {
    "id": "8bdqEhrdMuHh"
   },
   "source": [
    "***iii. Plot Precision and Recall Curve***\n"
   ]
  },
  {
   "cell_type": "code",
   "execution_count": null,
   "metadata": {
    "id": "smne1OBWMuHh"
   },
   "outputs": [],
   "source": []
  },
  {
   "cell_type": "markdown",
   "metadata": {
    "id": "pRDWOdB4sjIC"
   },
   "source": [
    "***v. Apply Model Evaluation Checks***\n",
    "* link : https://docs.deepchecks.com/stable/user-guide/tabular/auto_quickstarts/plot_quick_model_evaluation.html"
   ]
  },
  {
   "cell_type": "code",
   "execution_count": null,
   "metadata": {
    "id": "G9P58AMGskcY"
   },
   "outputs": [],
   "source": []
  },
  {
   "cell_type": "markdown",
   "metadata": {
    "id": "T5IgEAE-T-QR"
   },
   "source": [
    "### XGBoost Classifier with Unbalanced Data Techniques\n",
    "\n",
    "- The steps you are going to cover for this algorithm are as follows:\n",
    "\n",
    "   *i. Model Training*\n",
    "   \n",
    "   *ii. Prediction and Model Evaluating (Apply StratifiedKFold) and Tuning*\n",
    "   \n",
    "   *iii. Plot Precision and Recall Curve*\n",
    "   "
   ]
  },
  {
   "cell_type": "markdown",
   "metadata": {
    "id": "vtl41WAUT-QS"
   },
   "source": [
    "***i. Model Training***"
   ]
  },
  {
   "cell_type": "code",
   "execution_count": null,
   "metadata": {
    "id": "T4dGJYsMT-QT"
   },
   "outputs": [],
   "source": []
  },
  {
   "cell_type": "markdown",
   "metadata": {
    "id": "TG4Tb0WuT-QU"
   },
   "source": [
    "***ii. Prediction and Model Evaluating (Apply StratifiedKFold) and Tuning***"
   ]
  },
  {
   "cell_type": "code",
   "execution_count": null,
   "metadata": {
    "id": "NtYBe4FVT-QV"
   },
   "outputs": [],
   "source": []
  },
  {
   "cell_type": "markdown",
   "metadata": {
    "id": "z9B4_xOpT-QW"
   },
   "source": [
    "***iii. Plot Precision and Recall Curve***\n"
   ]
  },
  {
   "cell_type": "code",
   "execution_count": null,
   "metadata": {
    "id": "BqNbfMguT-QX"
   },
   "outputs": [],
   "source": []
  },
  {
   "cell_type": "markdown",
   "metadata": {
    "id": "mFpIISNzsm55"
   },
   "source": [
    "***v. Apply Model Evaluation Checks***\n",
    "* link : https://docs.deepchecks.com/stable/user-guide/tabular/auto_quickstarts/plot_quick_model_evaluation.html"
   ]
  },
  {
   "cell_type": "code",
   "execution_count": null,
   "metadata": {
    "id": "AEbwEKvospoK"
   },
   "outputs": [],
   "source": []
  },
  {
   "cell_type": "markdown",
   "metadata": {
    "id": "ife6NlFRJQ0f"
   },
   "source": [
    "### Neural Network\n",
    "\n",
    "In the final step, you will make classification with Neural Network which is a Deep Learning algorithm. \n",
    "\n",
    "Neural networks are a series of algorithms that mimic the operations of a human brain to recognize relationships between vast amounts of data. They are used in a variety of applications in financial services, from forecasting and marketing research to fraud detection and risk assessment.\n",
    "\n",
    "A neural network contains layers of interconnected nodes. Each node is a perceptron and is similar to a multiple linear regression. The perceptron feeds the signal produced by a multiple linear regression into an activation function that may be nonlinear.\n",
    "\n",
    "In a multi-layered perceptron (MLP), perceptrons are arranged in interconnected layers. The input layer collects input patterns. The output layer has classifications or output signals to which input patterns may map. \n",
    "\n",
    "Hidden layers fine-tune the input weightings until the neural network’s margin of error is minimal. It is hypothesized that hidden layers extrapolate salient features in the input data that have predictive power regarding the outputs.\n",
    "\n",
    "You will discover **[how to create](https://towardsdatascience.com/building-our-first-neural-network-in-keras-bdc8abbc17f5)** your deep learning neural network model in Python using **[Keras](https://keras.io/about/)**. Keras is a powerful and easy-to-use free open source Python library for developing and evaluating deep learning models.\n",
    "\n",
    "- The steps you are going to cover for this algorithm are as follows:\n",
    "\n",
    "   *i. Import Libraries*\n",
    "   \n",
    "   *ii. Define Model*\n",
    "    \n",
    "   *iii. Compile Model*\n",
    "   \n",
    "   *iv. Fit Model*\n",
    "   \n",
    "   *v. Prediction and Model Evaluating*\n",
    "   \n",
    "   *vi. Plot Precision and Recall Curve*"
   ]
  },
  {
   "cell_type": "markdown",
   "metadata": {
    "id": "i9Rl75fpMuHi"
   },
   "source": [
    "***i. Import Libraries***"
   ]
  },
  {
   "cell_type": "code",
   "execution_count": null,
   "metadata": {
    "id": "LhEc3K9KMuHi"
   },
   "outputs": [],
   "source": []
  },
  {
   "cell_type": "markdown",
   "metadata": {
    "id": "gD6Rh1R8MuHi"
   },
   "source": [
    "***ii. Define Model***"
   ]
  },
  {
   "cell_type": "code",
   "execution_count": null,
   "metadata": {
    "id": "4okQmpRpMuHi"
   },
   "outputs": [],
   "source": []
  },
  {
   "cell_type": "markdown",
   "metadata": {
    "id": "_IQN7--qMuHi"
   },
   "source": [
    "***iii. Compile Model***"
   ]
  },
  {
   "cell_type": "code",
   "execution_count": null,
   "metadata": {
    "id": "f4W96rfHMuHi"
   },
   "outputs": [],
   "source": []
  },
  {
   "cell_type": "markdown",
   "metadata": {
    "id": "PsM_5PhJMuHi"
   },
   "source": [
    "***iv. Fit Model***"
   ]
  },
  {
   "cell_type": "code",
   "execution_count": null,
   "metadata": {
    "id": "cmkPKExFMuHj"
   },
   "outputs": [],
   "source": []
  },
  {
   "cell_type": "markdown",
   "metadata": {
    "id": "InMeP9kgMuHj"
   },
   "source": [
    "***v. Prediction and Model Evaluating***"
   ]
  },
  {
   "cell_type": "code",
   "execution_count": null,
   "metadata": {
    "id": "wRi_uFjIMuHj"
   },
   "outputs": [],
   "source": []
  },
  {
   "cell_type": "markdown",
   "metadata": {
    "id": "_JAEDNkjMuHj"
   },
   "source": [
    "***vi. Plot Precision and Recall Curve***"
   ]
  },
  {
   "cell_type": "code",
   "execution_count": null,
   "metadata": {
    "id": "RJWcx-kQstx5"
   },
   "outputs": [],
   "source": []
  },
  {
   "cell_type": "markdown",
   "metadata": {
    "id": "hvAi1Czcsu5f"
   },
   "source": [
    "***v. Apply Model Evaluation Checks***\n",
    "* link : https://docs.deepchecks.com/stable/user-guide/tabular/auto_quickstarts/plot_quick_model_evaluation.html"
   ]
  },
  {
   "cell_type": "code",
   "execution_count": null,
   "metadata": {
    "id": "YjmnSPm4sv5j"
   },
   "outputs": [],
   "source": []
  },
  {
   "cell_type": "markdown",
   "metadata": {
    "id": "LpbiGnpIxVK3"
   },
   "source": [
    "## 4. Model Deployement\n",
    "You cooked the food in the kitchen and moved on to the serving stage. The question is how do you showcase your work to others? Model Deployement helps you showcase your work to the world and make better decisions with it. But, deploying a model can get a little tricky at times. Before deploying the model, many things such as data storage, preprocessing, model building and monitoring need to be studied.\n",
    "\n",
    "Deployment of machine learning models, means making your models available to your other business systems. By deploying models, other systems can send data to them and get their predictions, which are in turn populated back into the company systems. Through machine learning model deployment, can begin to take full advantage of the model you built.\n",
    "\n",
    "Data science is concerned with how to build machine learning models, which algorithm is more predictive, how to design features, and what variables to use to make the models more accurate. However, how these models are actually used is often neglected. And yet this is the most important step in the machine learning pipline. Only when a model is fully integrated with the business systems, real values ​​can be extract from its predictions.\n",
    "\n",
    "After doing the following operations in this notebook, jump to a proper IDE and create your web app with Streamlit API."
   ]
  },
  {
   "cell_type": "markdown",
   "metadata": {
    "id": "oCAYcMLEH_7P"
   },
   "source": [
    "### Save and Export the Best Model\n"
   ]
  },
  {
   "cell_type": "code",
   "execution_count": null,
   "metadata": {
    "id": "MqluJ9yvIOex"
   },
   "outputs": [],
   "source": []
  },
  {
   "cell_type": "markdown",
   "metadata": {
    "id": "vaZP1N93IPQi"
   },
   "source": [
    "### Save and Export Variables"
   ]
  },
  {
   "cell_type": "code",
   "execution_count": null,
   "metadata": {
    "id": "q_vA-dJWxfFH"
   },
   "outputs": [],
   "source": []
  },
  {
   "cell_type": "markdown",
   "metadata": {
    "id": "cm9Z__Y7MuHj"
   },
   "source": [
    "___\n",
    "\n",
    "<p style=\"text-align: center;\"><img src=\"https://docs.google.com/uc?id=1lY0Uj5R04yMY3-ZppPWxqCr5pvBLYPnV\" class=\"img-fluid\" alt=\"CLRSWY\"></p>\n",
    "\n",
    "___"
   ]
  }
 ],
 "metadata": {
  "colab": {
   "collapsed_sections": [],
   "provenance": []
  },
  "kernelspec": {
   "display_name": "Python 3 (ipykernel)",
   "language": "python",
   "name": "python3"
  },
  "language_info": {
   "codemirror_mode": {
    "name": "ipython",
    "version": 3
   },
   "file_extension": ".py",
   "mimetype": "text/x-python",
   "name": "python",
   "nbconvert_exporter": "python",
   "pygments_lexer": "ipython3",
   "version": "3.9.7"
  },
  "vscode": {
   "interpreter": {
    "hash": "b91502e98c93ec413571a3c4a71c4e7e2f090119475bdef759aa0802c5125d05"
   }
  }
 },
 "nbformat": 4,
 "nbformat_minor": 1
}
