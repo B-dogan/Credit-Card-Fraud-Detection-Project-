{
 "cells": [
  {
   "cell_type": "markdown",
   "id": "711e1385",
   "metadata": {},
   "source": [
    "### Veri değerli bir varlıktır ve her bir parçasını kullanmak istiyoruz. Verileri train_test_split kullanarak bölersek, bir modeli yalnızca eğitim için ayrılan kısımla eğitebiliriz.cross validation ile bunun önüne geçmiş oluruz."
   ]
  },
  {
   "cell_type": "markdown",
   "id": "8f941417",
   "metadata": {},
   "source": []
  },
  {
   "cell_type": "markdown",
   "id": "c1741f6b",
   "metadata": {},
   "source": []
  },
  {
   "cell_type": "markdown",
   "id": "36ec3fb5",
   "metadata": {},
   "source": []
  },
  {
   "cell_type": "markdown",
   "id": "cb3f2848",
   "metadata": {},
   "source": []
  },
  {
   "cell_type": "markdown",
   "id": "c89a9c3d",
   "metadata": {},
   "source": []
  },
  {
   "cell_type": "markdown",
   "id": "76a6277f",
   "metadata": {},
   "source": []
  },
  {
   "cell_type": "markdown",
   "id": "d9f2bb51",
   "metadata": {},
   "source": []
  },
  {
   "cell_type": "markdown",
   "id": "c05e5f4e",
   "metadata": {},
   "source": []
  },
  {
   "cell_type": "markdown",
   "id": "0c3aefd6",
   "metadata": {},
   "source": []
  },
  {
   "cell_type": "markdown",
   "id": "b217776b",
   "metadata": {},
   "source": []
  },
  {
   "cell_type": "markdown",
   "id": "645d8a3b",
   "metadata": {},
   "source": []
  },
  {
   "cell_type": "markdown",
   "id": "49ce2e2d",
   "metadata": {},
   "source": []
  },
  {
   "cell_type": "markdown",
   "id": "7f6dc490",
   "metadata": {},
   "source": []
  },
  {
   "cell_type": "markdown",
   "id": "b98a7dc8",
   "metadata": {},
   "source": []
  },
  {
   "cell_type": "markdown",
   "id": "4628caa2",
   "metadata": {},
   "source": []
  },
  {
   "cell_type": "markdown",
   "id": "05cda353",
   "metadata": {},
   "source": []
  },
  {
   "cell_type": "markdown",
   "id": "d81374da",
   "metadata": {},
   "source": []
  },
  {
   "cell_type": "markdown",
   "id": "f86469e8",
   "metadata": {},
   "source": []
  },
  {
   "cell_type": "markdown",
   "id": "16bac5f4",
   "metadata": {},
   "source": []
  },
  {
   "cell_type": "markdown",
   "id": "0498d02d",
   "metadata": {},
   "source": []
  },
  {
   "cell_type": "markdown",
   "id": "5c0f1ddd",
   "metadata": {},
   "source": []
  },
  {
   "cell_type": "markdown",
   "id": "9aee5927",
   "metadata": {},
   "source": []
  },
  {
   "cell_type": "markdown",
   "id": "c3e624fe",
   "metadata": {},
   "source": []
  },
  {
   "cell_type": "markdown",
   "id": "4280d544",
   "metadata": {},
   "source": []
  },
  {
   "cell_type": "markdown",
   "id": "58041c52",
   "metadata": {},
   "source": []
  },
  {
   "cell_type": "markdown",
   "id": "e0885cc7",
   "metadata": {},
   "source": []
  },
  {
   "cell_type": "markdown",
   "id": "6cc87eab",
   "metadata": {},
   "source": []
  },
  {
   "cell_type": "markdown",
   "id": "329daa7a",
   "metadata": {},
   "source": []
  },
  {
   "cell_type": "markdown",
   "id": "0c4543ca",
   "metadata": {},
   "source": []
  },
  {
   "cell_type": "markdown",
   "id": "b18d25f7",
   "metadata": {},
   "source": []
  },
  {
   "cell_type": "markdown",
   "id": "28d02271",
   "metadata": {},
   "source": []
  },
  {
   "cell_type": "markdown",
   "id": "7424690a",
   "metadata": {},
   "source": []
  },
  {
   "cell_type": "markdown",
   "id": "d58e65f6",
   "metadata": {},
   "source": []
  },
  {
   "cell_type": "markdown",
   "id": "74a7bef7",
   "metadata": {},
   "source": []
  },
  {
   "cell_type": "markdown",
   "id": "25d85a50",
   "metadata": {},
   "source": []
  },
  {
   "cell_type": "markdown",
   "id": "539889f1",
   "metadata": {},
   "source": []
  },
  {
   "cell_type": "markdown",
   "id": "d655206a",
   "metadata": {},
   "source": []
  },
  {
   "cell_type": "markdown",
   "id": "6c25d9a0",
   "metadata": {},
   "source": []
  },
  {
   "cell_type": "markdown",
   "id": "b2585b5f",
   "metadata": {},
   "source": []
  },
  {
   "cell_type": "markdown",
   "id": "ae3cffd1",
   "metadata": {},
   "source": []
  },
  {
   "cell_type": "markdown",
   "id": "ae6c2725",
   "metadata": {},
   "source": []
  },
  {
   "cell_type": "markdown",
   "id": "3ad3de22",
   "metadata": {},
   "source": []
  },
  {
   "cell_type": "markdown",
   "id": "ec62e631",
   "metadata": {},
   "source": []
  },
  {
   "cell_type": "markdown",
   "id": "8efa85fc",
   "metadata": {},
   "source": []
  },
  {
   "cell_type": "markdown",
   "id": "59a272f4",
   "metadata": {},
   "source": []
  },
  {
   "cell_type": "markdown",
   "id": "7680110f",
   "metadata": {},
   "source": []
  },
  {
   "cell_type": "markdown",
   "id": "acdc5156",
   "metadata": {},
   "source": []
  },
  {
   "cell_type": "markdown",
   "id": "45c1a5ca",
   "metadata": {},
   "source": []
  },
  {
   "cell_type": "markdown",
   "id": "cbc1a4fc",
   "metadata": {},
   "source": []
  },
  {
   "cell_type": "markdown",
   "id": "7cc38508",
   "metadata": {},
   "source": []
  },
  {
   "cell_type": "markdown",
   "id": "a40e69a6",
   "metadata": {},
   "source": []
  },
  {
   "cell_type": "markdown",
   "id": "b56c9393",
   "metadata": {},
   "source": []
  },
  {
   "cell_type": "markdown",
   "id": "9c6b932b",
   "metadata": {},
   "source": []
  },
  {
   "cell_type": "markdown",
   "id": "22bd8f02",
   "metadata": {},
   "source": []
  },
  {
   "cell_type": "markdown",
   "id": "933841a6",
   "metadata": {},
   "source": []
  },
  {
   "cell_type": "markdown",
   "id": "0391ee68",
   "metadata": {},
   "source": []
  },
  {
   "cell_type": "markdown",
   "id": "3e8e4fed",
   "metadata": {},
   "source": []
  },
  {
   "cell_type": "markdown",
   "id": "4a7067d9",
   "metadata": {},
   "source": []
  },
  {
   "cell_type": "markdown",
   "id": "7da3e441",
   "metadata": {},
   "source": []
  },
  {
   "cell_type": "markdown",
   "id": "c0fc4119",
   "metadata": {},
   "source": []
  },
  {
   "cell_type": "code",
   "execution_count": null,
   "id": "b3aeda66",
   "metadata": {},
   "outputs": [],
   "source": []
  },
  {
   "cell_type": "code",
   "execution_count": null,
   "id": "28cc5228",
   "metadata": {},
   "outputs": [],
   "source": []
  },
  {
   "cell_type": "code",
   "execution_count": null,
   "id": "7dfabc51",
   "metadata": {},
   "outputs": [],
   "source": []
  },
  {
   "cell_type": "code",
   "execution_count": null,
   "id": "2ffdc17d",
   "metadata": {},
   "outputs": [],
   "source": []
  },
  {
   "cell_type": "code",
   "execution_count": null,
   "id": "91e18549",
   "metadata": {},
   "outputs": [],
   "source": []
  },
  {
   "cell_type": "code",
   "execution_count": null,
   "id": "68bc0296",
   "metadata": {},
   "outputs": [],
   "source": []
  },
  {
   "cell_type": "code",
   "execution_count": null,
   "id": "d97438fc",
   "metadata": {},
   "outputs": [],
   "source": []
  },
  {
   "cell_type": "code",
   "execution_count": null,
   "id": "8f3cd014",
   "metadata": {},
   "outputs": [],
   "source": []
  },
  {
   "cell_type": "code",
   "execution_count": null,
   "id": "d299a77e",
   "metadata": {},
   "outputs": [],
   "source": []
  },
  {
   "cell_type": "code",
   "execution_count": null,
   "id": "287a4265",
   "metadata": {},
   "outputs": [],
   "source": []
  },
  {
   "cell_type": "code",
   "execution_count": null,
   "id": "cb94f572",
   "metadata": {},
   "outputs": [],
   "source": []
  },
  {
   "cell_type": "code",
   "execution_count": null,
   "id": "e0d3d683",
   "metadata": {},
   "outputs": [],
   "source": []
  },
  {
   "cell_type": "code",
   "execution_count": null,
   "id": "12c451d5",
   "metadata": {},
   "outputs": [],
   "source": []
  },
  {
   "cell_type": "code",
   "execution_count": null,
   "id": "afa18b22",
   "metadata": {},
   "outputs": [],
   "source": []
  },
  {
   "cell_type": "code",
   "execution_count": null,
   "id": "fabed5f6",
   "metadata": {},
   "outputs": [],
   "source": []
  },
  {
   "cell_type": "code",
   "execution_count": null,
   "id": "65c4e3cf",
   "metadata": {},
   "outputs": [],
   "source": []
  },
  {
   "cell_type": "code",
   "execution_count": null,
   "id": "e15f260b",
   "metadata": {},
   "outputs": [],
   "source": []
  },
  {
   "cell_type": "code",
   "execution_count": null,
   "id": "ad6e43b4",
   "metadata": {},
   "outputs": [],
   "source": []
  },
  {
   "cell_type": "code",
   "execution_count": null,
   "id": "121de56b",
   "metadata": {},
   "outputs": [],
   "source": []
  },
  {
   "cell_type": "code",
   "execution_count": null,
   "id": "8fc375cb",
   "metadata": {},
   "outputs": [],
   "source": []
  },
  {
   "cell_type": "code",
   "execution_count": null,
   "id": "e4b3bdbd",
   "metadata": {},
   "outputs": [],
   "source": []
  },
  {
   "cell_type": "code",
   "execution_count": null,
   "id": "1291133f",
   "metadata": {},
   "outputs": [],
   "source": []
  },
  {
   "cell_type": "code",
   "execution_count": null,
   "id": "469211b9",
   "metadata": {},
   "outputs": [],
   "source": []
  },
  {
   "cell_type": "code",
   "execution_count": null,
   "id": "8af164d1",
   "metadata": {},
   "outputs": [],
   "source": []
  },
  {
   "cell_type": "code",
   "execution_count": null,
   "id": "9a6a2933",
   "metadata": {},
   "outputs": [],
   "source": []
  },
  {
   "cell_type": "code",
   "execution_count": null,
   "id": "f4342636",
   "metadata": {},
   "outputs": [],
   "source": []
  },
  {
   "cell_type": "code",
   "execution_count": null,
   "id": "ddef09ce",
   "metadata": {},
   "outputs": [],
   "source": []
  },
  {
   "cell_type": "code",
   "execution_count": null,
   "id": "f5d4a3e1",
   "metadata": {},
   "outputs": [],
   "source": []
  },
  {
   "cell_type": "code",
   "execution_count": null,
   "id": "2f3134c7",
   "metadata": {},
   "outputs": [],
   "source": []
  },
  {
   "cell_type": "code",
   "execution_count": null,
   "id": "dbaa845d",
   "metadata": {},
   "outputs": [],
   "source": []
  },
  {
   "cell_type": "code",
   "execution_count": null,
   "id": "bde10018",
   "metadata": {},
   "outputs": [],
   "source": []
  },
  {
   "cell_type": "code",
   "execution_count": null,
   "id": "76e1aee2",
   "metadata": {},
   "outputs": [],
   "source": []
  },
  {
   "cell_type": "code",
   "execution_count": null,
   "id": "b1e016f5",
   "metadata": {},
   "outputs": [],
   "source": []
  },
  {
   "cell_type": "code",
   "execution_count": null,
   "id": "77a52dda",
   "metadata": {},
   "outputs": [],
   "source": []
  },
  {
   "cell_type": "code",
   "execution_count": null,
   "id": "558daf6a",
   "metadata": {},
   "outputs": [],
   "source": []
  },
  {
   "cell_type": "code",
   "execution_count": null,
   "id": "ca2f6e53",
   "metadata": {},
   "outputs": [],
   "source": []
  },
  {
   "cell_type": "code",
   "execution_count": null,
   "id": "c8f5fadd",
   "metadata": {},
   "outputs": [],
   "source": []
  },
  {
   "cell_type": "code",
   "execution_count": null,
   "id": "4fe775be",
   "metadata": {},
   "outputs": [],
   "source": []
  },
  {
   "cell_type": "code",
   "execution_count": null,
   "id": "bc8b2b71",
   "metadata": {},
   "outputs": [],
   "source": []
  },
  {
   "cell_type": "code",
   "execution_count": null,
   "id": "35bec1a7",
   "metadata": {},
   "outputs": [],
   "source": []
  },
  {
   "cell_type": "code",
   "execution_count": null,
   "id": "9dfe4326",
   "metadata": {},
   "outputs": [],
   "source": []
  },
  {
   "cell_type": "code",
   "execution_count": null,
   "id": "d7a98a15",
   "metadata": {},
   "outputs": [],
   "source": []
  },
  {
   "cell_type": "code",
   "execution_count": null,
   "id": "7599b093",
   "metadata": {},
   "outputs": [],
   "source": []
  },
  {
   "cell_type": "code",
   "execution_count": null,
   "id": "a5617b2e",
   "metadata": {},
   "outputs": [],
   "source": []
  },
  {
   "cell_type": "code",
   "execution_count": null,
   "id": "207d596f",
   "metadata": {},
   "outputs": [],
   "source": []
  }
 ],
 "metadata": {
  "kernelspec": {
   "display_name": "Python 3 (ipykernel)",
   "language": "python",
   "name": "python3"
  },
  "language_info": {
   "codemirror_mode": {
    "name": "ipython",
    "version": 3
   },
   "file_extension": ".py",
   "mimetype": "text/x-python",
   "name": "python",
   "nbconvert_exporter": "python",
   "pygments_lexer": "ipython3",
   "version": "3.9.7"
  }
 },
 "nbformat": 4,
 "nbformat_minor": 5
}
